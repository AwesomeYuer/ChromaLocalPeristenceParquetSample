{
  "cells": [
    {
      "attachments": {},
      "cell_type": "markdown",
      "metadata": {},
      "source": [
        "# Local Peristence Demo\n",
        "This notebook demonstrates how to configure Chroma to persist to disk, then load it back in. "
      ]
    },
    {
      "cell_type": "code",
      "execution_count": null,
      "metadata": {},
      "outputs": [],
      "source": [
        "%pip install chromadb==0.3.26"
      ]
    },
    {
      "cell_type": "code",
      "execution_count": null,
      "metadata": {},
      "outputs": [],
      "source": [
        "%pip install pyarrow\n",
        "%pip install pandas"
      ]
    },
    {
      "cell_type": "code",
      "execution_count": null,
      "metadata": {},
      "outputs": [],
      "source": [
        "# 生成一个parquet文件\n",
        "\n",
        "import pyarrow as pa\n",
        "import pyarrow.parquet as pq\n",
        "import pandas as pd\n",
        "\n",
        "# Create a Pandas DataFrame\n",
        "data = {\n",
        "        \n",
        "        #'column1': [1, 2, 3, 4, 5],\n",
        "        #'column2': ['a', 'b', 'c', 'd', 'e']\n",
        "\n",
        "        'embeddings' : [\n",
        "            [1.1, 2.3, 3.2],\n",
        "            [4.5, 6.9, 4.4],\n",
        "            [1.1, 2.3, 3.2],\n",
        "            [4.5, 6.9, 4.4],\n",
        "            [1.1, 2.3, 3.2],\n",
        "            [4.5, 6.9, 4.4],\n",
        "            [1.1, 2.3, 3.2],\n",
        "            [4.5, 6.9, 4.4],\n",
        "        ],\n",
        "        'metadatas': [\n",
        "            {\"uri\": \"img1.png\", \"style\": \"style1\"},\n",
        "            {\"uri\": \"img2.png\", \"style\": \"style2\"},\n",
        "            {\"uri\": \"img3.png\", \"style\": \"style1\"},\n",
        "            {\"uri\": \"img4.png\", \"style\": \"style1\"},\n",
        "            {\"uri\": \"img5.png\", \"style\": \"style1\"},\n",
        "            {\"uri\": \"img6.png\", \"style\": \"style1\"},\n",
        "            {\"uri\": \"img7.png\", \"style\": \"style1\"},\n",
        "            {\"uri\": \"img8.png\", \"style\": \"style1\"},\n",
        "        ],\n",
        "        'documents': [\"doc1\", \"doc2\", \"doc3\", \"doc4\", \"doc5\", \"doc6\", \"doc7\", \"doc8\"],\n",
        "        'ids': [\"id1\", \"id2\", \"id3\", \"id4\", \"id5\", \"id6\", \"id7\", \"id8\"],\n",
        "        \n",
        "        \n",
        "    }\n",
        "df = pd.DataFrame(data)\n",
        "\n",
        "# Convert the DataFrame to a PyArrow Table\n",
        "table = pa.Table.from_pandas(df)\n",
        "\n",
        "# Define the Parquet file path\n",
        "file_path = 'parquet\\example.parquet'\n",
        "\n",
        "# Write the PyArrow Table to a Parquet file\n",
        "pq.write_table(table, file_path)"
      ]
    },
    {
      "cell_type": "code",
      "execution_count": null,
      "metadata": {},
      "outputs": [],
      "source": [
        "import chromadb"
      ]
    },
    {
      "cell_type": "code",
      "execution_count": null,
      "metadata": {},
      "outputs": [],
      "source": [
        "# Create a new Chroma client with persistence enabled. \n",
        "\n",
        "settings = chromadb.config.Settings(persist_directory=\"db\\chromadb\",chroma_db_impl='duckdb+parquet')\n",
        "\n",
        "client = chromadb.Client(settings)\n",
        "# Create a new chroma collection\n",
        "collection_name = \"collection_1\"\n",
        "collection = client.get_collection(name=collection_name)\n",
        "\n",
        "print(collection.count())"
      ]
    },
    {
      "cell_type": "code",
      "execution_count": null,
      "metadata": {},
      "outputs": [],
      "source": [
        "# 不要执行\n",
        "# Add some data to the collection\n",
        "collection.add(\n",
        "    embeddings=[\n",
        "        [1.1, 2.3, 3.2],\n",
        "        [4.5, 6.9, 4.4],\n",
        "        [1.1, 2.3, 3.2],\n",
        "        [4.5, 6.9, 4.4],\n",
        "        [1.1, 2.3, 3.2],\n",
        "        [4.5, 6.9, 4.4],\n",
        "        [1.1, 2.3, 3.2],\n",
        "        [4.5, 6.9, 4.4],\n",
        "    ],\n",
        "    metadatas=[\n",
        "        {\"uri\": \"img1.png\", \"style\": \"style1\"},\n",
        "        {\"uri\": \"img2.png\", \"style\": \"style2\"},\n",
        "        {\"uri\": \"img3.png\", \"style\": \"style1\"},\n",
        "        {\"uri\": \"img4.png\", \"style\": \"style1\"},\n",
        "        {\"uri\": \"img5.png\", \"style\": \"style1\"},\n",
        "        {\"uri\": \"img6.png\", \"style\": \"style1\"},\n",
        "        {\"uri\": \"img7.png\", \"style\": \"style1\"},\n",
        "        {\"uri\": \"img8.png\", \"style\": \"style1\"},\n",
        "    ],\n",
        "    documents=[\"doc1\", \"doc2\", \"doc3\", \"doc4\", \"doc5\", \"doc6\", \"doc7\", \"doc8\"],\n",
        "    ids=[\"id1\", \"id2\", \"id3\", \"id4\", \"id5\", \"id6\", \"id7\", \"id8\"],\n",
        ")"
      ]
    },
    {
      "cell_type": "code",
      "execution_count": null,
      "metadata": {},
      "outputs": [],
      "source": [
        "# # Create a new client with the same settings\n",
        "# client = chromadb.PersistentClient(path=persist_directory)\n",
        "\n",
        "# # Load the collection\n",
        "# collection = client.get_collection(collection_name)"
      ]
    },
    {
      "cell_type": "code",
      "execution_count": null,
      "metadata": {},
      "outputs": [],
      "source": [
        "# Query the collection\n",
        "import numpy as np\n",
        "\n",
        "vector = np.random.rand(1536).astype(np.float32).tolist()\n",
        "\n",
        "results = collection.query(\n",
        "    query_embeddings=[vector],\n",
        "    n_results=10\n",
        ")\n",
        "print(type(vector))\n",
        "print(type(vector[0]))\n",
        "print(len(vector))  \n",
        "print(results)"
      ]
    },
    {
      "cell_type": "code",
      "execution_count": null,
      "metadata": {},
      "outputs": [],
      "source": [
        "collection.get(include=[\"embeddings\", \"metadatas\", \"documents\"])"
      ]
    },
    {
      "cell_type": "code",
      "execution_count": null,
      "metadata": {},
      "outputs": [],
      "source": [
        "# Clean up\n",
        "! rm -rf db"
      ]
    },
    {
      "cell_type": "code",
      "execution_count": null,
      "metadata": {},
      "outputs": [],
      "source": []
    }
  ],
  "metadata": {
    "kernelspec": {
      "display_name": "chroma",
      "language": "python",
      "name": "python3"
    },
    "language_info": {
      "codemirror_mode": {
        "name": "ipython",
        "version": 3
      },
      "file_extension": ".py",
      "mimetype": "text/x-python",
      "name": "python",
      "nbconvert_exporter": "python",
      "pygments_lexer": "ipython3",
      "version": "3.11.4"
    },
    "orig_nbformat": 4,
    "vscode": {
      "interpreter": {
        "hash": "88f09714c9334832bac29166716f9f6a879ee2a4ed4822c1d4120cb2393b58dd"
      }
    }
  },
  "nbformat": 4,
  "nbformat_minor": 2
}
