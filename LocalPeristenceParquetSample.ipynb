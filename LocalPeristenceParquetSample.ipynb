{
  "cells": [
    {
      "attachments": {},
      "cell_type": "markdown",
      "metadata": {},
      "source": [
        "# Local Peristence Demo\n",
        "This notebook demonstrates how to configure Chroma to persist to disk, then load it back in. "
      ]
    },
    {
      "cell_type": "code",
      "execution_count": 3,
      "metadata": {},
      "outputs": [
        {
          "name": "stdout",
          "output_type": "stream",
          "text": [
            "Requirement already satisfied: chromadb==0.3.26 in /home/awesomeyuer/miniconda3/lib/python3.11/site-packages (0.3.26)\n",
            "Requirement already satisfied: pandas>=1.3 in /home/awesomeyuer/miniconda3/lib/python3.11/site-packages (from chromadb==0.3.26) (2.0.3)\n",
            "Requirement already satisfied: requests>=2.28 in /home/awesomeyuer/miniconda3/lib/python3.11/site-packages (from chromadb==0.3.26) (2.29.0)\n",
            "Requirement already satisfied: pydantic>=1.9 in /home/awesomeyuer/miniconda3/lib/python3.11/site-packages (from chromadb==0.3.26) (2.3.0)\n",
            "Requirement already satisfied: hnswlib>=0.7 in /home/awesomeyuer/miniconda3/lib/python3.11/site-packages (from chromadb==0.3.26) (0.7.0)\n",
            "Requirement already satisfied: clickhouse-connect>=0.5.7 in /home/awesomeyuer/miniconda3/lib/python3.11/site-packages (from chromadb==0.3.26) (0.6.9)\n",
            "Requirement already satisfied: duckdb>=0.7.1 in /home/awesomeyuer/miniconda3/lib/python3.11/site-packages (from chromadb==0.3.26) (0.8.1)\n",
            "Requirement already satisfied: fastapi>=0.85.1 in /home/awesomeyuer/miniconda3/lib/python3.11/site-packages (from chromadb==0.3.26) (0.103.0)\n",
            "Requirement already satisfied: uvicorn[standard]>=0.18.3 in /home/awesomeyuer/miniconda3/lib/python3.11/site-packages (from chromadb==0.3.26) (0.23.2)\n",
            "Requirement already satisfied: numpy>=1.21.6 in /home/awesomeyuer/miniconda3/lib/python3.11/site-packages (from chromadb==0.3.26) (1.25.2)\n",
            "Requirement already satisfied: posthog>=2.4.0 in /home/awesomeyuer/miniconda3/lib/python3.11/site-packages (from chromadb==0.3.26) (3.0.2)\n",
            "Requirement already satisfied: typing-extensions>=4.5.0 in /home/awesomeyuer/miniconda3/lib/python3.11/site-packages (from chromadb==0.3.26) (4.7.1)\n",
            "Requirement already satisfied: pulsar-client>=3.1.0 in /home/awesomeyuer/miniconda3/lib/python3.11/site-packages (from chromadb==0.3.26) (3.2.0)\n",
            "Requirement already satisfied: onnxruntime>=1.14.1 in /home/awesomeyuer/miniconda3/lib/python3.11/site-packages (from chromadb==0.3.26) (1.15.1)\n",
            "Requirement already satisfied: tokenizers>=0.13.2 in /home/awesomeyuer/miniconda3/lib/python3.11/site-packages (from chromadb==0.3.26) (0.13.3)\n",
            "Requirement already satisfied: tqdm>=4.65.0 in /home/awesomeyuer/miniconda3/lib/python3.11/site-packages (from chromadb==0.3.26) (4.65.0)\n",
            "Requirement already satisfied: overrides>=7.3.1 in /home/awesomeyuer/miniconda3/lib/python3.11/site-packages (from chromadb==0.3.26) (7.4.0)\n",
            "Requirement already satisfied: certifi in /home/awesomeyuer/miniconda3/lib/python3.11/site-packages (from clickhouse-connect>=0.5.7->chromadb==0.3.26) (2023.7.22)\n",
            "Requirement already satisfied: urllib3>=1.26 in /home/awesomeyuer/miniconda3/lib/python3.11/site-packages (from clickhouse-connect>=0.5.7->chromadb==0.3.26) (1.26.16)\n",
            "Requirement already satisfied: pytz in /home/awesomeyuer/miniconda3/lib/python3.11/site-packages (from clickhouse-connect>=0.5.7->chromadb==0.3.26) (2023.3)\n",
            "Requirement already satisfied: zstandard in /home/awesomeyuer/miniconda3/lib/python3.11/site-packages (from clickhouse-connect>=0.5.7->chromadb==0.3.26) (0.19.0)\n",
            "Requirement already satisfied: lz4 in /home/awesomeyuer/miniconda3/lib/python3.11/site-packages (from clickhouse-connect>=0.5.7->chromadb==0.3.26) (4.3.2)\n",
            "Requirement already satisfied: starlette<0.28.0,>=0.27.0 in /home/awesomeyuer/miniconda3/lib/python3.11/site-packages (from fastapi>=0.85.1->chromadb==0.3.26) (0.27.0)\n",
            "Requirement already satisfied: coloredlogs in /home/awesomeyuer/miniconda3/lib/python3.11/site-packages (from onnxruntime>=1.14.1->chromadb==0.3.26) (15.0.1)\n",
            "Requirement already satisfied: flatbuffers in /home/awesomeyuer/miniconda3/lib/python3.11/site-packages (from onnxruntime>=1.14.1->chromadb==0.3.26) (23.5.26)\n",
            "Requirement already satisfied: packaging in /home/awesomeyuer/miniconda3/lib/python3.11/site-packages (from onnxruntime>=1.14.1->chromadb==0.3.26) (23.0)\n",
            "Requirement already satisfied: protobuf in /home/awesomeyuer/miniconda3/lib/python3.11/site-packages (from onnxruntime>=1.14.1->chromadb==0.3.26) (4.24.2)\n",
            "Requirement already satisfied: sympy in /home/awesomeyuer/miniconda3/lib/python3.11/site-packages (from onnxruntime>=1.14.1->chromadb==0.3.26) (1.12)\n",
            "Requirement already satisfied: python-dateutil>=2.8.2 in /home/awesomeyuer/miniconda3/lib/python3.11/site-packages (from pandas>=1.3->chromadb==0.3.26) (2.8.2)\n",
            "Requirement already satisfied: tzdata>=2022.1 in /home/awesomeyuer/miniconda3/lib/python3.11/site-packages (from pandas>=1.3->chromadb==0.3.26) (2023.3)\n",
            "Requirement already satisfied: six>=1.5 in /home/awesomeyuer/miniconda3/lib/python3.11/site-packages (from posthog>=2.4.0->chromadb==0.3.26) (1.16.0)\n",
            "Requirement already satisfied: monotonic>=1.5 in /home/awesomeyuer/miniconda3/lib/python3.11/site-packages (from posthog>=2.4.0->chromadb==0.3.26) (1.6)\n",
            "Requirement already satisfied: backoff>=1.10.0 in /home/awesomeyuer/miniconda3/lib/python3.11/site-packages (from posthog>=2.4.0->chromadb==0.3.26) (2.2.1)\n",
            "Requirement already satisfied: annotated-types>=0.4.0 in /home/awesomeyuer/miniconda3/lib/python3.11/site-packages (from pydantic>=1.9->chromadb==0.3.26) (0.5.0)\n",
            "Requirement already satisfied: pydantic-core==2.6.3 in /home/awesomeyuer/miniconda3/lib/python3.11/site-packages (from pydantic>=1.9->chromadb==0.3.26) (2.6.3)\n",
            "Requirement already satisfied: charset-normalizer<4,>=2 in /home/awesomeyuer/miniconda3/lib/python3.11/site-packages (from requests>=2.28->chromadb==0.3.26) (2.0.4)\n",
            "Requirement already satisfied: idna<4,>=2.5 in /home/awesomeyuer/miniconda3/lib/python3.11/site-packages (from requests>=2.28->chromadb==0.3.26) (3.4)\n",
            "Requirement already satisfied: click>=7.0 in /home/awesomeyuer/miniconda3/lib/python3.11/site-packages (from uvicorn[standard]>=0.18.3->chromadb==0.3.26) (8.1.7)\n",
            "Requirement already satisfied: h11>=0.8 in /home/awesomeyuer/miniconda3/lib/python3.11/site-packages (from uvicorn[standard]>=0.18.3->chromadb==0.3.26) (0.14.0)\n",
            "Requirement already satisfied: httptools>=0.5.0 in /home/awesomeyuer/miniconda3/lib/python3.11/site-packages (from uvicorn[standard]>=0.18.3->chromadb==0.3.26) (0.6.0)\n",
            "Requirement already satisfied: python-dotenv>=0.13 in /home/awesomeyuer/miniconda3/lib/python3.11/site-packages (from uvicorn[standard]>=0.18.3->chromadb==0.3.26) (1.0.0)\n",
            "Requirement already satisfied: pyyaml>=5.1 in /home/awesomeyuer/miniconda3/lib/python3.11/site-packages (from uvicorn[standard]>=0.18.3->chromadb==0.3.26) (6.0.1)\n",
            "Requirement already satisfied: uvloop!=0.15.0,!=0.15.1,>=0.14.0 in /home/awesomeyuer/miniconda3/lib/python3.11/site-packages (from uvicorn[standard]>=0.18.3->chromadb==0.3.26) (0.17.0)\n",
            "Requirement already satisfied: watchfiles>=0.13 in /home/awesomeyuer/miniconda3/lib/python3.11/site-packages (from uvicorn[standard]>=0.18.3->chromadb==0.3.26) (0.20.0)\n",
            "Requirement already satisfied: websockets>=10.4 in /home/awesomeyuer/miniconda3/lib/python3.11/site-packages (from uvicorn[standard]>=0.18.3->chromadb==0.3.26) (11.0.3)\n",
            "Requirement already satisfied: anyio<5,>=3.4.0 in /home/awesomeyuer/miniconda3/lib/python3.11/site-packages (from starlette<0.28.0,>=0.27.0->fastapi>=0.85.1->chromadb==0.3.26) (3.7.1)\n",
            "Requirement already satisfied: humanfriendly>=9.1 in /home/awesomeyuer/miniconda3/lib/python3.11/site-packages (from coloredlogs->onnxruntime>=1.14.1->chromadb==0.3.26) (10.0)\n",
            "Requirement already satisfied: mpmath>=0.19 in /home/awesomeyuer/miniconda3/lib/python3.11/site-packages (from sympy->onnxruntime>=1.14.1->chromadb==0.3.26) (1.3.0)\n",
            "Requirement already satisfied: sniffio>=1.1 in /home/awesomeyuer/miniconda3/lib/python3.11/site-packages (from anyio<5,>=3.4.0->starlette<0.28.0,>=0.27.0->fastapi>=0.85.1->chromadb==0.3.26) (1.3.0)\n",
            "Note: you may need to restart the kernel to use updated packages.\n"
          ]
        }
      ],
      "source": [
        "%pip install chromadb==0.3.26"
      ]
    },
    {
      "cell_type": "code",
      "execution_count": 15,
      "metadata": {},
      "outputs": [
        {
          "name": "stdout",
          "output_type": "stream",
          "text": [
            "Requirement already satisfied: pyarrow in /home/awesomeyuer/miniconda3/lib/python3.11/site-packages (13.0.0)\n",
            "Requirement already satisfied: numpy>=1.16.6 in /home/awesomeyuer/miniconda3/lib/python3.11/site-packages (from pyarrow) (1.25.2)\n",
            "Note: you may need to restart the kernel to use updated packages.\n",
            "Requirement already satisfied: pandas in /home/awesomeyuer/miniconda3/lib/python3.11/site-packages (2.0.3)\n",
            "Requirement already satisfied: python-dateutil>=2.8.2 in /home/awesomeyuer/miniconda3/lib/python3.11/site-packages (from pandas) (2.8.2)\n",
            "Requirement already satisfied: pytz>=2020.1 in /home/awesomeyuer/miniconda3/lib/python3.11/site-packages (from pandas) (2023.3)\n",
            "Requirement already satisfied: tzdata>=2022.1 in /home/awesomeyuer/miniconda3/lib/python3.11/site-packages (from pandas) (2023.3)\n",
            "Requirement already satisfied: numpy>=1.21.0 in /home/awesomeyuer/miniconda3/lib/python3.11/site-packages (from pandas) (1.25.2)\n",
            "Requirement already satisfied: six>=1.5 in /home/awesomeyuer/miniconda3/lib/python3.11/site-packages (from python-dateutil>=2.8.2->pandas) (1.16.0)\n",
            "Note: you may need to restart the kernel to use updated packages.\n"
          ]
        }
      ],
      "source": [
        "%pip install pyarrow\n",
        "%pip install pandas"
      ]
    },
    {
      "cell_type": "code",
      "execution_count": null,
      "metadata": {},
      "outputs": [],
      "source": [
        "# 生成一个parquet文件\n",
        "\n",
        "import pyarrow as pa\n",
        "import pyarrow.parquet as pq\n",
        "import pandas as pd\n",
        "\n",
        "# Create a Pandas DataFrame\n",
        "data = {\n",
        "        \n",
        "        #'column1': [1, 2, 3, 4, 5],\n",
        "        #'column2': ['a', 'b', 'c', 'd', 'e']\n",
        "\n",
        "        'embeddings' : [\n",
        "            [1.1, 2.3, 3.2],\n",
        "            [4.5, 6.9, 4.4],\n",
        "            [1.1, 2.3, 3.2],\n",
        "            [4.5, 6.9, 4.4],\n",
        "            [1.1, 2.3, 3.2],\n",
        "            [4.5, 6.9, 4.4],\n",
        "            [1.1, 2.3, 3.2],\n",
        "            [4.5, 6.9, 4.4],\n",
        "        ],\n",
        "        'metadatas': [\n",
        "            {\"uri\": \"img1.png\", \"style\": \"style1\"},\n",
        "            {\"uri\": \"img2.png\", \"style\": \"style2\"},\n",
        "            {\"uri\": \"img3.png\", \"style\": \"style1\"},\n",
        "            {\"uri\": \"img4.png\", \"style\": \"style1\"},\n",
        "            {\"uri\": \"img5.png\", \"style\": \"style1\"},\n",
        "            {\"uri\": \"img6.png\", \"style\": \"style1\"},\n",
        "            {\"uri\": \"img7.png\", \"style\": \"style1\"},\n",
        "            {\"uri\": \"img8.png\", \"style\": \"style1\"},\n",
        "        ],\n",
        "        'documents': [\"doc1\", \"doc2\", \"doc3\", \"doc4\", \"doc5\", \"doc6\", \"doc7\", \"doc8\"],\n",
        "        'ids': [\"id1\", \"id2\", \"id3\", \"id4\", \"id5\", \"id6\", \"id7\", \"id8\"],\n",
        "        \n",
        "        \n",
        "    }\n",
        "df = pd.DataFrame(data)\n",
        "\n",
        "# Convert the DataFrame to a PyArrow Table\n",
        "table = pa.Table.from_pandas(df)\n",
        "\n",
        "# Define the Parquet file path\n",
        "file_path = 'parquet\\example.parquet'\n",
        "\n",
        "# Write the PyArrow Table to a Parquet file\n",
        "pq.write_table(table, file_path)"
      ]
    },
    {
      "cell_type": "code",
      "execution_count": 32,
      "metadata": {},
      "outputs": [
        {
          "name": "stdout",
          "output_type": "stream",
          "text": [
            "Collecting pydantic==1.10.12\n",
            "  Downloading pydantic-1.10.12-cp311-cp311-manylinux_2_17_x86_64.manylinux2014_x86_64.whl (3.1 MB)\n",
            "\u001b[2K     \u001b[90m━━━━━━━━━━━━━━━━━━━━━━━━━━━━━━━━━━━━━━━━\u001b[0m \u001b[32m3.1/3.1 MB\u001b[0m \u001b[31m4.7 MB/s\u001b[0m eta \u001b[36m0:00:00\u001b[0m00:01\u001b[0m00:01\u001b[0m0m\n",
            "\u001b[?25hRequirement already satisfied: typing-extensions>=4.2.0 in /home/awesomeyuer/miniconda3/lib/python3.11/site-packages (from pydantic==1.10.12) (4.7.1)\n",
            "Installing collected packages: pydantic\n",
            "  Attempting uninstall: pydantic\n",
            "    Found existing installation: pydantic 2.0.3\n",
            "    Uninstalling pydantic-2.0.3:\n",
            "      Successfully uninstalled pydantic-2.0.3\n",
            "Successfully installed pydantic-1.10.12\n",
            "Note: you may need to restart the kernel to use updated packages.\n"
          ]
        }
      ],
      "source": [
        "%pip install pydantic==1.10.12\n"
      ]
    },
    {
      "cell_type": "code",
      "execution_count": 7,
      "metadata": {},
      "outputs": [],
      "source": [
        "import chromadb"
      ]
    },
    {
      "cell_type": "code",
      "execution_count": 8,
      "metadata": {},
      "outputs": [
        {
          "name": "stdout",
          "output_type": "stream",
          "text": [
            "552\n"
          ]
        }
      ],
      "source": [
        "# Create a new Chroma client with persistence enabled. \n",
        "\n",
        "import platform\n",
        "systemOS = platform.system().lower()\n",
        "\n",
        "is_windowsOS = systemOS == 'windows'\n",
        "\n",
        "separatorChar = \"/\"\n",
        "\n",
        "if is_windowsOS:\n",
        "   separatorChar = \"\\\\\"\n",
        "\n",
        "settings = chromadb.config.Settings(persist_directory=\"db/chromadb\",chroma_db_impl='duckdb+parquet')\n",
        "\n",
        "client = chromadb.Client(settings)\n",
        "# Create a new chroma collection\n",
        "collection_name = \"collection_1\"\n",
        "collection = client.get_or_create_collection(name=collection_name)\n",
        "\n",
        "print(collection.count())"
      ]
    },
    {
      "cell_type": "code",
      "execution_count": 2,
      "metadata": {},
      "outputs": [
        {
          "ename": "NameError",
          "evalue": "name 'collection' is not defined",
          "output_type": "error",
          "traceback": [
            "\u001b[0;31m---------------------------------------------------------------------------\u001b[0m",
            "\u001b[0;31mNameError\u001b[0m                                 Traceback (most recent call last)",
            "Cell \u001b[0;32mIn[2], line 3\u001b[0m\n\u001b[1;32m      1\u001b[0m \u001b[39m# 不要执行\u001b[39;00m\n\u001b[1;32m      2\u001b[0m \u001b[39m# Add some data to the collection\u001b[39;00m\n\u001b[0;32m----> 3\u001b[0m collection\u001b[39m.\u001b[39madd(\n\u001b[1;32m      4\u001b[0m     embeddings\u001b[39m=\u001b[39m[\n\u001b[1;32m      5\u001b[0m         [\u001b[39m1.1\u001b[39m, \u001b[39m2.3\u001b[39m, \u001b[39m3.2\u001b[39m],\n\u001b[1;32m      6\u001b[0m         [\u001b[39m4.5\u001b[39m, \u001b[39m6.9\u001b[39m, \u001b[39m4.4\u001b[39m],\n\u001b[1;32m      7\u001b[0m         [\u001b[39m1.1\u001b[39m, \u001b[39m2.3\u001b[39m, \u001b[39m3.2\u001b[39m],\n\u001b[1;32m      8\u001b[0m         [\u001b[39m4.5\u001b[39m, \u001b[39m6.9\u001b[39m, \u001b[39m4.4\u001b[39m],\n\u001b[1;32m      9\u001b[0m         [\u001b[39m1.1\u001b[39m, \u001b[39m2.3\u001b[39m, \u001b[39m3.2\u001b[39m],\n\u001b[1;32m     10\u001b[0m         [\u001b[39m4.5\u001b[39m, \u001b[39m6.9\u001b[39m, \u001b[39m4.4\u001b[39m],\n\u001b[1;32m     11\u001b[0m         [\u001b[39m1.1\u001b[39m, \u001b[39m2.3\u001b[39m, \u001b[39m3.2\u001b[39m],\n\u001b[1;32m     12\u001b[0m         [\u001b[39m4.5\u001b[39m, \u001b[39m6.9\u001b[39m, \u001b[39m4.4\u001b[39m],\n\u001b[1;32m     13\u001b[0m     ],\n\u001b[1;32m     14\u001b[0m     metadatas\u001b[39m=\u001b[39m[\n\u001b[1;32m     15\u001b[0m         {\u001b[39m\"\u001b[39m\u001b[39muri\u001b[39m\u001b[39m\"\u001b[39m: \u001b[39m\"\u001b[39m\u001b[39mimg1.png\u001b[39m\u001b[39m\"\u001b[39m, \u001b[39m\"\u001b[39m\u001b[39mstyle\u001b[39m\u001b[39m\"\u001b[39m: \u001b[39m\"\u001b[39m\u001b[39mstyle1\u001b[39m\u001b[39m\"\u001b[39m},\n\u001b[1;32m     16\u001b[0m         {\u001b[39m\"\u001b[39m\u001b[39muri\u001b[39m\u001b[39m\"\u001b[39m: \u001b[39m\"\u001b[39m\u001b[39mimg2.png\u001b[39m\u001b[39m\"\u001b[39m, \u001b[39m\"\u001b[39m\u001b[39mstyle\u001b[39m\u001b[39m\"\u001b[39m: \u001b[39m\"\u001b[39m\u001b[39mstyle2\u001b[39m\u001b[39m\"\u001b[39m},\n\u001b[1;32m     17\u001b[0m         {\u001b[39m\"\u001b[39m\u001b[39muri\u001b[39m\u001b[39m\"\u001b[39m: \u001b[39m\"\u001b[39m\u001b[39mimg3.png\u001b[39m\u001b[39m\"\u001b[39m, \u001b[39m\"\u001b[39m\u001b[39mstyle\u001b[39m\u001b[39m\"\u001b[39m: \u001b[39m\"\u001b[39m\u001b[39mstyle1\u001b[39m\u001b[39m\"\u001b[39m},\n\u001b[1;32m     18\u001b[0m         {\u001b[39m\"\u001b[39m\u001b[39muri\u001b[39m\u001b[39m\"\u001b[39m: \u001b[39m\"\u001b[39m\u001b[39mimg4.png\u001b[39m\u001b[39m\"\u001b[39m, \u001b[39m\"\u001b[39m\u001b[39mstyle\u001b[39m\u001b[39m\"\u001b[39m: \u001b[39m\"\u001b[39m\u001b[39mstyle1\u001b[39m\u001b[39m\"\u001b[39m},\n\u001b[1;32m     19\u001b[0m         {\u001b[39m\"\u001b[39m\u001b[39muri\u001b[39m\u001b[39m\"\u001b[39m: \u001b[39m\"\u001b[39m\u001b[39mimg5.png\u001b[39m\u001b[39m\"\u001b[39m, \u001b[39m\"\u001b[39m\u001b[39mstyle\u001b[39m\u001b[39m\"\u001b[39m: \u001b[39m\"\u001b[39m\u001b[39mstyle1\u001b[39m\u001b[39m\"\u001b[39m},\n\u001b[1;32m     20\u001b[0m         {\u001b[39m\"\u001b[39m\u001b[39muri\u001b[39m\u001b[39m\"\u001b[39m: \u001b[39m\"\u001b[39m\u001b[39mimg6.png\u001b[39m\u001b[39m\"\u001b[39m, \u001b[39m\"\u001b[39m\u001b[39mstyle\u001b[39m\u001b[39m\"\u001b[39m: \u001b[39m\"\u001b[39m\u001b[39mstyle1\u001b[39m\u001b[39m\"\u001b[39m},\n\u001b[1;32m     21\u001b[0m         {\u001b[39m\"\u001b[39m\u001b[39muri\u001b[39m\u001b[39m\"\u001b[39m: \u001b[39m\"\u001b[39m\u001b[39mimg7.png\u001b[39m\u001b[39m\"\u001b[39m, \u001b[39m\"\u001b[39m\u001b[39mstyle\u001b[39m\u001b[39m\"\u001b[39m: \u001b[39m\"\u001b[39m\u001b[39mstyle1\u001b[39m\u001b[39m\"\u001b[39m},\n\u001b[1;32m     22\u001b[0m         {\u001b[39m\"\u001b[39m\u001b[39muri\u001b[39m\u001b[39m\"\u001b[39m: \u001b[39m\"\u001b[39m\u001b[39mimg8.png\u001b[39m\u001b[39m\"\u001b[39m, \u001b[39m\"\u001b[39m\u001b[39mstyle\u001b[39m\u001b[39m\"\u001b[39m: \u001b[39m\"\u001b[39m\u001b[39mstyle1\u001b[39m\u001b[39m\"\u001b[39m},\n\u001b[1;32m     23\u001b[0m     ],\n\u001b[1;32m     24\u001b[0m     documents\u001b[39m=\u001b[39m[\u001b[39m\"\u001b[39m\u001b[39mdoc1\u001b[39m\u001b[39m\"\u001b[39m, \u001b[39m\"\u001b[39m\u001b[39mdoc2\u001b[39m\u001b[39m\"\u001b[39m, \u001b[39m\"\u001b[39m\u001b[39mdoc3\u001b[39m\u001b[39m\"\u001b[39m, \u001b[39m\"\u001b[39m\u001b[39mdoc4\u001b[39m\u001b[39m\"\u001b[39m, \u001b[39m\"\u001b[39m\u001b[39mdoc5\u001b[39m\u001b[39m\"\u001b[39m, \u001b[39m\"\u001b[39m\u001b[39mdoc6\u001b[39m\u001b[39m\"\u001b[39m, \u001b[39m\"\u001b[39m\u001b[39mdoc7\u001b[39m\u001b[39m\"\u001b[39m, \u001b[39m\"\u001b[39m\u001b[39mdoc8\u001b[39m\u001b[39m\"\u001b[39m],\n\u001b[1;32m     25\u001b[0m     ids\u001b[39m=\u001b[39m[\u001b[39m\"\u001b[39m\u001b[39mid1\u001b[39m\u001b[39m\"\u001b[39m, \u001b[39m\"\u001b[39m\u001b[39mid2\u001b[39m\u001b[39m\"\u001b[39m, \u001b[39m\"\u001b[39m\u001b[39mid3\u001b[39m\u001b[39m\"\u001b[39m, \u001b[39m\"\u001b[39m\u001b[39mid4\u001b[39m\u001b[39m\"\u001b[39m, \u001b[39m\"\u001b[39m\u001b[39mid5\u001b[39m\u001b[39m\"\u001b[39m, \u001b[39m\"\u001b[39m\u001b[39mid6\u001b[39m\u001b[39m\"\u001b[39m, \u001b[39m\"\u001b[39m\u001b[39mid7\u001b[39m\u001b[39m\"\u001b[39m, \u001b[39m\"\u001b[39m\u001b[39mid8\u001b[39m\u001b[39m\"\u001b[39m],\n\u001b[1;32m     26\u001b[0m )\n",
            "\u001b[0;31mNameError\u001b[0m: name 'collection' is not defined"
          ]
        }
      ],
      "source": [
        "# 不要执行\n",
        "# Add some data to the collection\n",
        "collection.add(\n",
        "    embeddings=[\n",
        "        [1.1, 2.3, 3.2],\n",
        "        [4.5, 6.9, 4.4],\n",
        "        [1.1, 2.3, 3.2],\n",
        "        [4.5, 6.9, 4.4],\n",
        "        [1.1, 2.3, 3.2],\n",
        "        [4.5, 6.9, 4.4],\n",
        "        [1.1, 2.3, 3.2],\n",
        "        [4.5, 6.9, 4.4],\n",
        "    ],\n",
        "    metadatas=[\n",
        "        {\"uri\": \"img1.png\", \"style\": \"style1\"},\n",
        "        {\"uri\": \"img2.png\", \"style\": \"style2\"},\n",
        "        {\"uri\": \"img3.png\", \"style\": \"style1\"},\n",
        "        {\"uri\": \"img4.png\", \"style\": \"style1\"},\n",
        "        {\"uri\": \"img5.png\", \"style\": \"style1\"},\n",
        "        {\"uri\": \"img6.png\", \"style\": \"style1\"},\n",
        "        {\"uri\": \"img7.png\", \"style\": \"style1\"},\n",
        "        {\"uri\": \"img8.png\", \"style\": \"style1\"},\n",
        "    ],\n",
        "    documents=[\"doc1\", \"doc2\", \"doc3\", \"doc4\", \"doc5\", \"doc6\", \"doc7\", \"doc8\"],\n",
        "    ids=[\"id1\", \"id2\", \"id3\", \"id4\", \"id5\", \"id6\", \"id7\", \"id8\"],\n",
        ")"
      ]
    },
    {
      "cell_type": "code",
      "execution_count": null,
      "metadata": {},
      "outputs": [],
      "source": [
        "# # Create a new client with the same settings\n",
        "# client = chromadb.PersistentClient(path=persist_directory)\n",
        "\n",
        "# # Load the collection\n",
        "# collection = client.get_collection(collection_name)"
      ]
    },
    {
      "cell_type": "code",
      "execution_count": 6,
      "metadata": {},
      "outputs": [
        {
          "name": "stdout",
          "output_type": "stream",
          "text": [
            "<class 'list'>\n",
            "<class 'float'>\n",
            "1536\n",
            "{'ids': [[]], 'embeddings': None, 'documents': [[]], 'metadatas': [[]], 'distances': [[]]}\n"
          ]
        }
      ],
      "source": [
        "# Query the collection\n",
        "import numpy as np\n",
        "\n",
        "vector = np.random.rand(1536).astype(np.float32).tolist()\n",
        "\n",
        "results = collection.query(\n",
        "    query_embeddings=[vector],\n",
        "    n_results=10\n",
        ")\n",
        "print(type(vector))\n",
        "print(type(vector[0]))\n",
        "print(len(vector))  \n",
        "print(results)"
      ]
    },
    {
      "cell_type": "code",
      "execution_count": null,
      "metadata": {},
      "outputs": [],
      "source": [
        "collection.get(include=[\"embeddings\", \"metadatas\", \"documents\"])"
      ]
    },
    {
      "cell_type": "code",
      "execution_count": null,
      "metadata": {},
      "outputs": [],
      "source": [
        "# Clean up\n",
        "! rm -rf db"
      ]
    },
    {
      "cell_type": "code",
      "execution_count": null,
      "metadata": {},
      "outputs": [],
      "source": []
    }
  ],
  "metadata": {
    "kernelspec": {
      "display_name": "chroma",
      "language": "python",
      "name": "python3"
    },
    "language_info": {
      "codemirror_mode": {
        "name": "ipython",
        "version": 3
      },
      "file_extension": ".py",
      "mimetype": "text/x-python",
      "name": "python",
      "nbconvert_exporter": "python",
      "pygments_lexer": "ipython3",
      "version": "3.11.4"
    },
    "orig_nbformat": 4,
    "vscode": {
      "interpreter": {
        "hash": "88f09714c9334832bac29166716f9f6a879ee2a4ed4822c1d4120cb2393b58dd"
      }
    }
  },
  "nbformat": 4,
  "nbformat_minor": 2
}
