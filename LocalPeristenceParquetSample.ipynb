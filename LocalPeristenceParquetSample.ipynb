{
  "cells": [
    {
      "attachments": {},
      "cell_type": "markdown",
      "metadata": {},
      "source": [
        "# Local Peristence Demo\n",
        "This notebook demonstrates how to configure Chroma to persist to disk, then load it back in. "
      ]
    },
    {
      "cell_type": "code",
      "execution_count": 2,
      "metadata": {},
      "outputs": [
        {
          "name": "stdout",
          "output_type": "stream",
          "text": [
            "Collecting chromadb==0.3.26\n",
            "  Using cached chromadb-0.3.26-py3-none-any.whl (123 kB)\n",
            "Requirement already satisfied: pandas>=1.3 in d:\\python311\\lib\\site-packages (from chromadb==0.3.26) (2.0.3)\n",
            "Requirement already satisfied: requests>=2.28 in d:\\python311\\lib\\site-packages (from chromadb==0.3.26) (2.31.0)\n",
            "Requirement already satisfied: pydantic>=1.9 in d:\\python311\\lib\\site-packages (from chromadb==0.3.26) (1.10.12)\n",
            "Collecting hnswlib>=0.7 (from chromadb==0.3.26)\n",
            "  Using cached hnswlib-0.7.0-cp311-cp311-win_amd64.whl\n",
            "Collecting clickhouse-connect>=0.5.7 (from chromadb==0.3.26)\n",
            "  Using cached clickhouse_connect-0.6.9-cp311-cp311-win_amd64.whl (228 kB)\n",
            "Requirement already satisfied: duckdb>=0.7.1 in d:\\python311\\lib\\site-packages (from chromadb==0.3.26) (0.8.1)\n",
            "Requirement already satisfied: fastapi>=0.85.1 in d:\\python311\\lib\\site-packages (from chromadb==0.3.26) (0.99.1)\n",
            "Requirement already satisfied: uvicorn[standard]>=0.18.3 in d:\\python311\\lib\\site-packages (from chromadb==0.3.26) (0.23.2)\n",
            "Requirement already satisfied: numpy>=1.21.6 in d:\\python311\\lib\\site-packages (from chromadb==0.3.26) (1.25.0)\n",
            "Requirement already satisfied: posthog>=2.4.0 in d:\\python311\\lib\\site-packages (from chromadb==0.3.26) (3.0.2)\n",
            "Requirement already satisfied: typing-extensions>=4.5.0 in d:\\python311\\lib\\site-packages (from chromadb==0.3.26) (4.7.1)\n",
            "Requirement already satisfied: pulsar-client>=3.1.0 in d:\\python311\\lib\\site-packages (from chromadb==0.3.26) (3.2.0)\n",
            "Requirement already satisfied: onnxruntime>=1.14.1 in d:\\python311\\lib\\site-packages (from chromadb==0.3.26) (1.15.1)\n",
            "Requirement already satisfied: tokenizers>=0.13.2 in d:\\python311\\lib\\site-packages (from chromadb==0.3.26) (0.13.3)\n",
            "Requirement already satisfied: tqdm>=4.65.0 in d:\\python311\\lib\\site-packages (from chromadb==0.3.26) (4.65.0)\n",
            "Requirement already satisfied: overrides>=7.3.1 in d:\\python311\\lib\\site-packages (from chromadb==0.3.26) (7.4.0)\n",
            "Requirement already satisfied: certifi in d:\\python311\\lib\\site-packages (from clickhouse-connect>=0.5.7->chromadb==0.3.26) (2023.5.7)\n",
            "Requirement already satisfied: urllib3>=1.26 in d:\\python311\\lib\\site-packages (from clickhouse-connect>=0.5.7->chromadb==0.3.26) (2.0.3)\n",
            "Requirement already satisfied: pytz in d:\\python311\\lib\\site-packages (from clickhouse-connect>=0.5.7->chromadb==0.3.26) (2023.3)\n",
            "Requirement already satisfied: zstandard in d:\\python311\\lib\\site-packages (from clickhouse-connect>=0.5.7->chromadb==0.3.26) (0.21.0)\n",
            "Requirement already satisfied: lz4 in d:\\python311\\lib\\site-packages (from clickhouse-connect>=0.5.7->chromadb==0.3.26) (4.3.2)\n",
            "Requirement already satisfied: starlette<0.28.0,>=0.27.0 in d:\\python311\\lib\\site-packages (from fastapi>=0.85.1->chromadb==0.3.26) (0.27.0)\n",
            "Requirement already satisfied: coloredlogs in d:\\python311\\lib\\site-packages (from onnxruntime>=1.14.1->chromadb==0.3.26) (15.0.1)\n",
            "Requirement already satisfied: flatbuffers in d:\\python311\\lib\\site-packages (from onnxruntime>=1.14.1->chromadb==0.3.26) (23.5.26)\n",
            "Requirement already satisfied: packaging in c:\\users\\xiyueyu\\appdata\\roaming\\python\\python311\\site-packages (from onnxruntime>=1.14.1->chromadb==0.3.26) (23.1)\n",
            "Requirement already satisfied: protobuf in d:\\python311\\lib\\site-packages (from onnxruntime>=1.14.1->chromadb==0.3.26) (4.24.1)\n",
            "Requirement already satisfied: sympy in d:\\python311\\lib\\site-packages (from onnxruntime>=1.14.1->chromadb==0.3.26) (1.12)\n",
            "Requirement already satisfied: python-dateutil>=2.8.2 in c:\\users\\xiyueyu\\appdata\\roaming\\python\\python311\\site-packages (from pandas>=1.3->chromadb==0.3.26) (2.8.2)\n",
            "Requirement already satisfied: tzdata>=2022.1 in d:\\python311\\lib\\site-packages (from pandas>=1.3->chromadb==0.3.26) (2023.3)\n",
            "Requirement already satisfied: six>=1.5 in c:\\users\\xiyueyu\\appdata\\roaming\\python\\python311\\site-packages (from posthog>=2.4.0->chromadb==0.3.26) (1.16.0)\n",
            "Requirement already satisfied: monotonic>=1.5 in d:\\python311\\lib\\site-packages (from posthog>=2.4.0->chromadb==0.3.26) (1.6)\n",
            "Requirement already satisfied: backoff>=1.10.0 in d:\\python311\\lib\\site-packages (from posthog>=2.4.0->chromadb==0.3.26) (2.2.1)\n",
            "Requirement already satisfied: charset-normalizer<4,>=2 in d:\\python311\\lib\\site-packages (from requests>=2.28->chromadb==0.3.26) (3.1.0)\n",
            "Requirement already satisfied: idna<4,>=2.5 in d:\\python311\\lib\\site-packages (from requests>=2.28->chromadb==0.3.26) (3.4)\n",
            "Requirement already satisfied: colorama in c:\\users\\xiyueyu\\appdata\\roaming\\python\\python311\\site-packages (from tqdm>=4.65.0->chromadb==0.3.26) (0.4.6)\n",
            "Requirement already satisfied: click>=7.0 in d:\\python311\\lib\\site-packages (from uvicorn[standard]>=0.18.3->chromadb==0.3.26) (8.1.7)\n",
            "Requirement already satisfied: h11>=0.8 in d:\\python311\\lib\\site-packages (from uvicorn[standard]>=0.18.3->chromadb==0.3.26) (0.14.0)\n",
            "Requirement already satisfied: httptools>=0.5.0 in d:\\python311\\lib\\site-packages (from uvicorn[standard]>=0.18.3->chromadb==0.3.26) (0.6.0)\n",
            "Requirement already satisfied: python-dotenv>=0.13 in d:\\python311\\lib\\site-packages (from uvicorn[standard]>=0.18.3->chromadb==0.3.26) (1.0.0)\n",
            "Requirement already satisfied: pyyaml>=5.1 in d:\\python311\\lib\\site-packages (from uvicorn[standard]>=0.18.3->chromadb==0.3.26) (6.0.1)\n",
            "Requirement already satisfied: watchfiles>=0.13 in d:\\python311\\lib\\site-packages (from uvicorn[standard]>=0.18.3->chromadb==0.3.26) (0.20.0)\n",
            "Requirement already satisfied: websockets>=10.4 in d:\\python311\\lib\\site-packages (from uvicorn[standard]>=0.18.3->chromadb==0.3.26) (11.0.3)\n",
            "Requirement already satisfied: anyio<5,>=3.4.0 in d:\\python311\\lib\\site-packages (from starlette<0.28.0,>=0.27.0->fastapi>=0.85.1->chromadb==0.3.26) (3.7.1)\n",
            "Requirement already satisfied: humanfriendly>=9.1 in d:\\python311\\lib\\site-packages (from coloredlogs->onnxruntime>=1.14.1->chromadb==0.3.26) (10.0)\n",
            "Requirement already satisfied: mpmath>=0.19 in d:\\python311\\lib\\site-packages (from sympy->onnxruntime>=1.14.1->chromadb==0.3.26) (1.3.0)\n",
            "Requirement already satisfied: sniffio>=1.1 in d:\\python311\\lib\\site-packages (from anyio<5,>=3.4.0->starlette<0.28.0,>=0.27.0->fastapi>=0.85.1->chromadb==0.3.26) (1.3.0)\n",
            "Requirement already satisfied: pyreadline3 in d:\\python311\\lib\\site-packages (from humanfriendly>=9.1->coloredlogs->onnxruntime>=1.14.1->chromadb==0.3.26) (3.4.1)\n",
            "Installing collected packages: hnswlib, clickhouse-connect, chromadb\n",
            "  Attempting uninstall: chromadb\n",
            "    Found existing installation: chromadb 0.4.7\n",
            "    Uninstalling chromadb-0.4.7:\n",
            "      Successfully uninstalled chromadb-0.4.7\n",
            "Successfully installed chromadb-0.3.26 clickhouse-connect-0.6.9 hnswlib-0.7.0\n",
            "Note: you may need to restart the kernel to use updated packages.\n"
          ]
        },
        {
          "name": "stderr",
          "output_type": "stream",
          "text": [
            "\n",
            "[notice] A new release of pip is available: 23.1.2 -> 23.2.1\n",
            "[notice] To update, run: python.exe -m pip install --upgrade pip\n"
          ]
        }
      ],
      "source": [
        "%pip install chromadb==0.3.26"
      ]
    },
    {
      "cell_type": "code",
      "execution_count": 3,
      "metadata": {},
      "outputs": [
        {
          "name": "stdout",
          "output_type": "stream",
          "text": [
            "Requirement already satisfied: pyarrow in d:\\python311\\lib\\site-packages (13.0.0)\n",
            "Requirement already satisfied: numpy>=1.16.6 in d:\\python311\\lib\\site-packages (from pyarrow) (1.25.0)\n",
            "Note: you may need to restart the kernel to use updated packages.\n"
          ]
        },
        {
          "name": "stderr",
          "output_type": "stream",
          "text": [
            "\n",
            "[notice] A new release of pip is available: 23.1.2 -> 23.2.1\n",
            "[notice] To update, run: python.exe -m pip install --upgrade pip\n"
          ]
        },
        {
          "name": "stdout",
          "output_type": "stream",
          "text": [
            "Requirement already satisfied: pandas in d:\\python311\\lib\\site-packages (2.0.3)\n",
            "Requirement already satisfied: python-dateutil>=2.8.2 in c:\\users\\xiyueyu\\appdata\\roaming\\python\\python311\\site-packages (from pandas) (2.8.2)\n",
            "Requirement already satisfied: pytz>=2020.1 in d:\\python311\\lib\\site-packages (from pandas) (2023.3)\n",
            "Requirement already satisfied: tzdata>=2022.1 in d:\\python311\\lib\\site-packages (from pandas) (2023.3)\n",
            "Requirement already satisfied: numpy>=1.21.0 in d:\\python311\\lib\\site-packages (from pandas) (1.25.0)\n",
            "Requirement already satisfied: six>=1.5 in c:\\users\\xiyueyu\\appdata\\roaming\\python\\python311\\site-packages (from python-dateutil>=2.8.2->pandas) (1.16.0)\n",
            "Note: you may need to restart the kernel to use updated packages.\n"
          ]
        },
        {
          "name": "stderr",
          "output_type": "stream",
          "text": [
            "\n",
            "[notice] A new release of pip is available: 23.1.2 -> 23.2.1\n",
            "[notice] To update, run: python.exe -m pip install --upgrade pip\n"
          ]
        }
      ],
      "source": [
        "%pip install pyarrow\n",
        "%pip install pandas"
      ]
    },
    {
      "cell_type": "code",
      "execution_count": 1,
      "metadata": {},
      "outputs": [
        {
          "ename": "ModuleNotFoundError",
          "evalue": "No module named 'pyarrow'",
          "output_type": "error",
          "traceback": [
            "\u001b[1;31m---------------------------------------------------------------------------\u001b[0m",
            "\u001b[1;31mModuleNotFoundError\u001b[0m                       Traceback (most recent call last)",
            "Cell \u001b[1;32mIn[1], line 1\u001b[0m\n\u001b[1;32m----> 1\u001b[0m \u001b[39mimport\u001b[39;00m \u001b[39mpyarrow\u001b[39;00m \u001b[39mas\u001b[39;00m \u001b[39mpa\u001b[39;00m\n\u001b[0;32m      2\u001b[0m \u001b[39mimport\u001b[39;00m \u001b[39mpyarrow\u001b[39;00m\u001b[39m.\u001b[39;00m\u001b[39mparquet\u001b[39;00m \u001b[39mas\u001b[39;00m \u001b[39mpq\u001b[39;00m\n\u001b[0;32m      3\u001b[0m \u001b[39mimport\u001b[39;00m \u001b[39mpandas\u001b[39;00m \u001b[39mas\u001b[39;00m \u001b[39mpd\u001b[39;00m\n",
            "\u001b[1;31mModuleNotFoundError\u001b[0m: No module named 'pyarrow'"
          ]
        }
      ],
      "source": [
        "# 生成一个parquet文件\n",
        "\n",
        "import pyarrow as pa\n",
        "import pyarrow.parquet as pq\n",
        "import pandas as pd\n",
        "\n",
        "# Create a Pandas DataFrame\n",
        "data = {\n",
        "        \n",
        "        #'column1': [1, 2, 3, 4, 5],\n",
        "        #'column2': ['a', 'b', 'c', 'd', 'e']\n",
        "\n",
        "        'embeddings' : [\n",
        "            [1.1, 2.3, 3.2],\n",
        "            [4.5, 6.9, 4.4],\n",
        "            [1.1, 2.3, 3.2],\n",
        "            [4.5, 6.9, 4.4],\n",
        "            [1.1, 2.3, 3.2],\n",
        "            [4.5, 6.9, 4.4],\n",
        "            [1.1, 2.3, 3.2],\n",
        "            [4.5, 6.9, 4.4],\n",
        "        ],\n",
        "        'metadatas': [\n",
        "            {\"uri\": \"img1.png\", \"style\": \"style1\"},\n",
        "            {\"uri\": \"img2.png\", \"style\": \"style2\"},\n",
        "            {\"uri\": \"img3.png\", \"style\": \"style1\"},\n",
        "            {\"uri\": \"img4.png\", \"style\": \"style1\"},\n",
        "            {\"uri\": \"img5.png\", \"style\": \"style1\"},\n",
        "            {\"uri\": \"img6.png\", \"style\": \"style1\"},\n",
        "            {\"uri\": \"img7.png\", \"style\": \"style1\"},\n",
        "            {\"uri\": \"img8.png\", \"style\": \"style1\"},\n",
        "        ],\n",
        "        'documents': [\"doc1\", \"doc2\", \"doc3\", \"doc4\", \"doc5\", \"doc6\", \"doc7\", \"doc8\"],\n",
        "        'ids': [\"id1\", \"id2\", \"id3\", \"id4\", \"id5\", \"id6\", \"id7\", \"id8\"],\n",
        "        \n",
        "        \n",
        "    }\n",
        "df = pd.DataFrame(data)\n",
        "\n",
        "# Convert the DataFrame to a PyArrow Table\n",
        "table = pa.Table.from_pandas(df)\n",
        "\n",
        "# Define the Parquet file path\n",
        "file_path = 'parquet\\example.parquet'\n",
        "\n",
        "# Write the PyArrow Table to a Parquet file\n",
        "pq.write_table(table, file_path)"
      ]
    },
    {
      "cell_type": "code",
      "execution_count": 4,
      "metadata": {},
      "outputs": [],
      "source": [
        "import chromadb"
      ]
    },
    {
      "cell_type": "code",
      "execution_count": 63,
      "metadata": {},
      "outputs": [
        {
          "ename": "ValueError",
          "evalue": "not enough values to unpack (expected 2, got 1)",
          "output_type": "error",
          "traceback": [
            "\u001b[1;31m---------------------------------------------------------------------------\u001b[0m",
            "\u001b[1;31mValueError\u001b[0m                                Traceback (most recent call last)",
            "Cell \u001b[1;32mIn[63], line 5\u001b[0m\n\u001b[0;32m      1\u001b[0m \u001b[39m# Create a new Chroma client with persistence enabled. \u001b[39;00m\n\u001b[0;32m      3\u001b[0m settings \u001b[39m=\u001b[39m chromadb\u001b[39m.\u001b[39mconfig\u001b[39m.\u001b[39mSettings(persist_directory\u001b[39m=\u001b[39m\u001b[39m\"\u001b[39m\u001b[39mparquet\u001b[39m\u001b[39m\"\u001b[39m,chroma_db_impl\u001b[39m=\u001b[39m\u001b[39m'\u001b[39m\u001b[39mparquet\u001b[39m\u001b[39m'\u001b[39m)\n\u001b[1;32m----> 5\u001b[0m client \u001b[39m=\u001b[39m chromadb\u001b[39m.\u001b[39;49mClient(settings)\n\u001b[0;32m      6\u001b[0m \u001b[39m# Create a new chroma collection\u001b[39;00m\n\u001b[0;32m      7\u001b[0m collection_name \u001b[39m=\u001b[39m \u001b[39m\"\u001b[39m\u001b[39mcollection_1\u001b[39m\u001b[39m\"\u001b[39m\n",
            "File \u001b[1;32md:\\Python311\\Lib\\site-packages\\chromadb\\__init__.py:31\u001b[0m, in \u001b[0;36mClient\u001b[1;34m(settings)\u001b[0m\n\u001b[0;32m     28\u001b[0m system \u001b[39m=\u001b[39m System(settings)\n\u001b[0;32m     30\u001b[0m telemetry_client \u001b[39m=\u001b[39m system\u001b[39m.\u001b[39minstance(Telemetry)\n\u001b[1;32m---> 31\u001b[0m api \u001b[39m=\u001b[39m system\u001b[39m.\u001b[39;49minstance(API)\n\u001b[0;32m     33\u001b[0m system\u001b[39m.\u001b[39mstart()\n\u001b[0;32m     35\u001b[0m \u001b[39m# Submit event for client start\u001b[39;00m\n",
            "File \u001b[1;32md:\\Python311\\Lib\\site-packages\\chromadb\\config.py:160\u001b[0m, in \u001b[0;36mSystem.instance\u001b[1;34m(self, type)\u001b[0m\n\u001b[0;32m    157\u001b[0m     \u001b[39mtype\u001b[39m \u001b[39m=\u001b[39m get_class(fqn, \u001b[39mtype\u001b[39m)\n\u001b[0;32m    159\u001b[0m \u001b[39mif\u001b[39;00m \u001b[39mtype\u001b[39m \u001b[39mnot\u001b[39;00m \u001b[39min\u001b[39;00m \u001b[39mself\u001b[39m\u001b[39m.\u001b[39m_instances:\n\u001b[1;32m--> 160\u001b[0m     impl \u001b[39m=\u001b[39m \u001b[39mtype\u001b[39;49m(\u001b[39mself\u001b[39;49m)\n\u001b[0;32m    161\u001b[0m     \u001b[39mself\u001b[39m\u001b[39m.\u001b[39m_instances[\u001b[39mtype\u001b[39m] \u001b[39m=\u001b[39m impl\n\u001b[0;32m    162\u001b[0m     \u001b[39mif\u001b[39;00m \u001b[39mself\u001b[39m\u001b[39m.\u001b[39m_running:\n",
            "File \u001b[1;32md:\\Python311\\Lib\\site-packages\\chromadb\\api\\local.py:61\u001b[0m, in \u001b[0;36mLocalAPI.__init__\u001b[1;34m(self, system)\u001b[0m\n\u001b[0;32m     59\u001b[0m \u001b[39mdef\u001b[39;00m \u001b[39m__init__\u001b[39m(\u001b[39mself\u001b[39m, system: System):\n\u001b[0;32m     60\u001b[0m     \u001b[39msuper\u001b[39m()\u001b[39m.\u001b[39m\u001b[39m__init__\u001b[39m(system)\n\u001b[1;32m---> 61\u001b[0m     \u001b[39mself\u001b[39m\u001b[39m.\u001b[39m_db \u001b[39m=\u001b[39m \u001b[39mself\u001b[39;49m\u001b[39m.\u001b[39;49mrequire(DB)\n\u001b[0;32m     62\u001b[0m     \u001b[39mself\u001b[39m\u001b[39m.\u001b[39m_telemetry_client \u001b[39m=\u001b[39m \u001b[39mself\u001b[39m\u001b[39m.\u001b[39mrequire(Telemetry)\n",
            "File \u001b[1;32md:\\Python311\\Lib\\site-packages\\chromadb\\config.py:106\u001b[0m, in \u001b[0;36mComponent.require\u001b[1;34m(self, type)\u001b[0m\n\u001b[0;32m    103\u001b[0m \u001b[39mdef\u001b[39;00m \u001b[39mrequire\u001b[39m(\u001b[39mself\u001b[39m, \u001b[39mtype\u001b[39m: Type[T]) \u001b[39m-\u001b[39m\u001b[39m>\u001b[39m T:\n\u001b[0;32m    104\u001b[0m \u001b[39m    \u001b[39m\u001b[39m\"\"\"Get a Component instance of the given type, and register as a dependency of\u001b[39;00m\n\u001b[0;32m    105\u001b[0m \u001b[39m    that instance.\"\"\"\u001b[39;00m\n\u001b[1;32m--> 106\u001b[0m     inst \u001b[39m=\u001b[39m \u001b[39mself\u001b[39;49m\u001b[39m.\u001b[39;49m_system\u001b[39m.\u001b[39;49minstance(\u001b[39mtype\u001b[39;49m)\n\u001b[0;32m    107\u001b[0m     \u001b[39mself\u001b[39m\u001b[39m.\u001b[39m_dependencies\u001b[39m.\u001b[39madd(inst)\n\u001b[0;32m    108\u001b[0m     \u001b[39mreturn\u001b[39;00m inst\n",
            "File \u001b[1;32md:\\Python311\\Lib\\site-packages\\chromadb\\config.py:157\u001b[0m, in \u001b[0;36mSystem.instance\u001b[1;34m(self, type)\u001b[0m\n\u001b[0;32m    155\u001b[0m     key \u001b[39m=\u001b[39m _abstract_type_keys[type_fqn]\n\u001b[0;32m    156\u001b[0m     fqn \u001b[39m=\u001b[39m \u001b[39mself\u001b[39m\u001b[39m.\u001b[39msettings\u001b[39m.\u001b[39mrequire(key)\n\u001b[1;32m--> 157\u001b[0m     \u001b[39mtype\u001b[39m \u001b[39m=\u001b[39m get_class(fqn, \u001b[39mtype\u001b[39;49m)\n\u001b[0;32m    159\u001b[0m \u001b[39mif\u001b[39;00m \u001b[39mtype\u001b[39m \u001b[39mnot\u001b[39;00m \u001b[39min\u001b[39;00m \u001b[39mself\u001b[39m\u001b[39m.\u001b[39m_instances:\n\u001b[0;32m    160\u001b[0m     impl \u001b[39m=\u001b[39m \u001b[39mtype\u001b[39m(\u001b[39mself\u001b[39m)\n",
            "File \u001b[1;32md:\\Python311\\Lib\\site-packages\\chromadb\\config.py:202\u001b[0m, in \u001b[0;36mget_class\u001b[1;34m(fqn, type)\u001b[0m\n\u001b[0;32m    200\u001b[0m \u001b[39mdef\u001b[39;00m \u001b[39mget_class\u001b[39m(fqn: \u001b[39mstr\u001b[39m, \u001b[39mtype\u001b[39m: Type[C]) \u001b[39m-\u001b[39m\u001b[39m>\u001b[39m Type[C]:\n\u001b[0;32m    201\u001b[0m \u001b[39m    \u001b[39m\u001b[39m\"\"\"Given a fully qualifed class name, import the module and return the class\"\"\"\u001b[39;00m\n\u001b[1;32m--> 202\u001b[0m     module_name, class_name \u001b[39m=\u001b[39m fqn\u001b[39m.\u001b[39mrsplit(\u001b[39m\"\u001b[39m\u001b[39m.\u001b[39m\u001b[39m\"\u001b[39m, \u001b[39m1\u001b[39m)\n\u001b[0;32m    203\u001b[0m     module \u001b[39m=\u001b[39m importlib\u001b[39m.\u001b[39mimport_module(module_name)\n\u001b[0;32m    204\u001b[0m     \u001b[39mcls\u001b[39m \u001b[39m=\u001b[39m \u001b[39mgetattr\u001b[39m(module, class_name)\n",
            "\u001b[1;31mValueError\u001b[0m: not enough values to unpack (expected 2, got 1)"
          ]
        }
      ],
      "source": [
        "# Create a new Chroma client with persistence enabled. \n",
        "\n",
        "settings = chromadb.config.Settings(persist_directory=\"db\\chromadb\",chroma_db_impl='duckdb+parquet')\n",
        "\n",
        "client = chromadb.Client(settings)\n",
        "# Create a new chroma collection\n",
        "collection_name = \"collection_1\"\n",
        "collection = client.get_or_create_collection(name=collection_name)\n",
        "\n",
        "print(collection.count())"
      ]
    },
    {
      "cell_type": "code",
      "execution_count": 4,
      "metadata": {},
      "outputs": [
        {
          "ename": "NameError",
          "evalue": "name 'collection' is not defined",
          "output_type": "error",
          "traceback": [
            "\u001b[1;31m---------------------------------------------------------------------------\u001b[0m",
            "\u001b[1;31mNameError\u001b[0m                                 Traceback (most recent call last)",
            "Cell \u001b[1;32mIn[4], line 2\u001b[0m\n\u001b[0;32m      1\u001b[0m \u001b[39m# Add some data to the collection\u001b[39;00m\n\u001b[1;32m----> 2\u001b[0m collection\u001b[39m.\u001b[39madd(\n\u001b[0;32m      3\u001b[0m     embeddings\u001b[39m=\u001b[39m[\n\u001b[0;32m      4\u001b[0m         [\u001b[39m1.1\u001b[39m, \u001b[39m2.3\u001b[39m, \u001b[39m3.2\u001b[39m],\n\u001b[0;32m      5\u001b[0m         [\u001b[39m4.5\u001b[39m, \u001b[39m6.9\u001b[39m, \u001b[39m4.4\u001b[39m],\n\u001b[0;32m      6\u001b[0m         [\u001b[39m1.1\u001b[39m, \u001b[39m2.3\u001b[39m, \u001b[39m3.2\u001b[39m],\n\u001b[0;32m      7\u001b[0m         [\u001b[39m4.5\u001b[39m, \u001b[39m6.9\u001b[39m, \u001b[39m4.4\u001b[39m],\n\u001b[0;32m      8\u001b[0m         [\u001b[39m1.1\u001b[39m, \u001b[39m2.3\u001b[39m, \u001b[39m3.2\u001b[39m],\n\u001b[0;32m      9\u001b[0m         [\u001b[39m4.5\u001b[39m, \u001b[39m6.9\u001b[39m, \u001b[39m4.4\u001b[39m],\n\u001b[0;32m     10\u001b[0m         [\u001b[39m1.1\u001b[39m, \u001b[39m2.3\u001b[39m, \u001b[39m3.2\u001b[39m],\n\u001b[0;32m     11\u001b[0m         [\u001b[39m4.5\u001b[39m, \u001b[39m6.9\u001b[39m, \u001b[39m4.4\u001b[39m],\n\u001b[0;32m     12\u001b[0m     ],\n\u001b[0;32m     13\u001b[0m     metadatas\u001b[39m=\u001b[39m[\n\u001b[0;32m     14\u001b[0m         {\u001b[39m\"\u001b[39m\u001b[39muri\u001b[39m\u001b[39m\"\u001b[39m: \u001b[39m\"\u001b[39m\u001b[39mimg1.png\u001b[39m\u001b[39m\"\u001b[39m, \u001b[39m\"\u001b[39m\u001b[39mstyle\u001b[39m\u001b[39m\"\u001b[39m: \u001b[39m\"\u001b[39m\u001b[39mstyle1\u001b[39m\u001b[39m\"\u001b[39m},\n\u001b[0;32m     15\u001b[0m         {\u001b[39m\"\u001b[39m\u001b[39muri\u001b[39m\u001b[39m\"\u001b[39m: \u001b[39m\"\u001b[39m\u001b[39mimg2.png\u001b[39m\u001b[39m\"\u001b[39m, \u001b[39m\"\u001b[39m\u001b[39mstyle\u001b[39m\u001b[39m\"\u001b[39m: \u001b[39m\"\u001b[39m\u001b[39mstyle2\u001b[39m\u001b[39m\"\u001b[39m},\n\u001b[0;32m     16\u001b[0m         {\u001b[39m\"\u001b[39m\u001b[39muri\u001b[39m\u001b[39m\"\u001b[39m: \u001b[39m\"\u001b[39m\u001b[39mimg3.png\u001b[39m\u001b[39m\"\u001b[39m, \u001b[39m\"\u001b[39m\u001b[39mstyle\u001b[39m\u001b[39m\"\u001b[39m: \u001b[39m\"\u001b[39m\u001b[39mstyle1\u001b[39m\u001b[39m\"\u001b[39m},\n\u001b[0;32m     17\u001b[0m         {\u001b[39m\"\u001b[39m\u001b[39muri\u001b[39m\u001b[39m\"\u001b[39m: \u001b[39m\"\u001b[39m\u001b[39mimg4.png\u001b[39m\u001b[39m\"\u001b[39m, \u001b[39m\"\u001b[39m\u001b[39mstyle\u001b[39m\u001b[39m\"\u001b[39m: \u001b[39m\"\u001b[39m\u001b[39mstyle1\u001b[39m\u001b[39m\"\u001b[39m},\n\u001b[0;32m     18\u001b[0m         {\u001b[39m\"\u001b[39m\u001b[39muri\u001b[39m\u001b[39m\"\u001b[39m: \u001b[39m\"\u001b[39m\u001b[39mimg5.png\u001b[39m\u001b[39m\"\u001b[39m, \u001b[39m\"\u001b[39m\u001b[39mstyle\u001b[39m\u001b[39m\"\u001b[39m: \u001b[39m\"\u001b[39m\u001b[39mstyle1\u001b[39m\u001b[39m\"\u001b[39m},\n\u001b[0;32m     19\u001b[0m         {\u001b[39m\"\u001b[39m\u001b[39muri\u001b[39m\u001b[39m\"\u001b[39m: \u001b[39m\"\u001b[39m\u001b[39mimg6.png\u001b[39m\u001b[39m\"\u001b[39m, \u001b[39m\"\u001b[39m\u001b[39mstyle\u001b[39m\u001b[39m\"\u001b[39m: \u001b[39m\"\u001b[39m\u001b[39mstyle1\u001b[39m\u001b[39m\"\u001b[39m},\n\u001b[0;32m     20\u001b[0m         {\u001b[39m\"\u001b[39m\u001b[39muri\u001b[39m\u001b[39m\"\u001b[39m: \u001b[39m\"\u001b[39m\u001b[39mimg7.png\u001b[39m\u001b[39m\"\u001b[39m, \u001b[39m\"\u001b[39m\u001b[39mstyle\u001b[39m\u001b[39m\"\u001b[39m: \u001b[39m\"\u001b[39m\u001b[39mstyle1\u001b[39m\u001b[39m\"\u001b[39m},\n\u001b[0;32m     21\u001b[0m         {\u001b[39m\"\u001b[39m\u001b[39muri\u001b[39m\u001b[39m\"\u001b[39m: \u001b[39m\"\u001b[39m\u001b[39mimg8.png\u001b[39m\u001b[39m\"\u001b[39m, \u001b[39m\"\u001b[39m\u001b[39mstyle\u001b[39m\u001b[39m\"\u001b[39m: \u001b[39m\"\u001b[39m\u001b[39mstyle1\u001b[39m\u001b[39m\"\u001b[39m},\n\u001b[0;32m     22\u001b[0m     ],\n\u001b[0;32m     23\u001b[0m     documents\u001b[39m=\u001b[39m[\u001b[39m\"\u001b[39m\u001b[39mdoc1\u001b[39m\u001b[39m\"\u001b[39m, \u001b[39m\"\u001b[39m\u001b[39mdoc2\u001b[39m\u001b[39m\"\u001b[39m, \u001b[39m\"\u001b[39m\u001b[39mdoc3\u001b[39m\u001b[39m\"\u001b[39m, \u001b[39m\"\u001b[39m\u001b[39mdoc4\u001b[39m\u001b[39m\"\u001b[39m, \u001b[39m\"\u001b[39m\u001b[39mdoc5\u001b[39m\u001b[39m\"\u001b[39m, \u001b[39m\"\u001b[39m\u001b[39mdoc6\u001b[39m\u001b[39m\"\u001b[39m, \u001b[39m\"\u001b[39m\u001b[39mdoc7\u001b[39m\u001b[39m\"\u001b[39m, \u001b[39m\"\u001b[39m\u001b[39mdoc8\u001b[39m\u001b[39m\"\u001b[39m],\n\u001b[0;32m     24\u001b[0m     ids\u001b[39m=\u001b[39m[\u001b[39m\"\u001b[39m\u001b[39mid1\u001b[39m\u001b[39m\"\u001b[39m, \u001b[39m\"\u001b[39m\u001b[39mid2\u001b[39m\u001b[39m\"\u001b[39m, \u001b[39m\"\u001b[39m\u001b[39mid3\u001b[39m\u001b[39m\"\u001b[39m, \u001b[39m\"\u001b[39m\u001b[39mid4\u001b[39m\u001b[39m\"\u001b[39m, \u001b[39m\"\u001b[39m\u001b[39mid5\u001b[39m\u001b[39m\"\u001b[39m, \u001b[39m\"\u001b[39m\u001b[39mid6\u001b[39m\u001b[39m\"\u001b[39m, \u001b[39m\"\u001b[39m\u001b[39mid7\u001b[39m\u001b[39m\"\u001b[39m, \u001b[39m\"\u001b[39m\u001b[39mid8\u001b[39m\u001b[39m\"\u001b[39m],\n\u001b[0;32m     25\u001b[0m )\n",
            "\u001b[1;31mNameError\u001b[0m: name 'collection' is not defined"
          ]
        }
      ],
      "source": [
        "# 不要执行\n",
        "# Add some data to the collection\n",
        "collection.add(\n",
        "    embeddings=[\n",
        "        [1.1, 2.3, 3.2],\n",
        "        [4.5, 6.9, 4.4],\n",
        "        [1.1, 2.3, 3.2],\n",
        "        [4.5, 6.9, 4.4],\n",
        "        [1.1, 2.3, 3.2],\n",
        "        [4.5, 6.9, 4.4],\n",
        "        [1.1, 2.3, 3.2],\n",
        "        [4.5, 6.9, 4.4],\n",
        "    ],\n",
        "    metadatas=[\n",
        "        {\"uri\": \"img1.png\", \"style\": \"style1\"},\n",
        "        {\"uri\": \"img2.png\", \"style\": \"style2\"},\n",
        "        {\"uri\": \"img3.png\", \"style\": \"style1\"},\n",
        "        {\"uri\": \"img4.png\", \"style\": \"style1\"},\n",
        "        {\"uri\": \"img5.png\", \"style\": \"style1\"},\n",
        "        {\"uri\": \"img6.png\", \"style\": \"style1\"},\n",
        "        {\"uri\": \"img7.png\", \"style\": \"style1\"},\n",
        "        {\"uri\": \"img8.png\", \"style\": \"style1\"},\n",
        "    ],\n",
        "    documents=[\"doc1\", \"doc2\", \"doc3\", \"doc4\", \"doc5\", \"doc6\", \"doc7\", \"doc8\"],\n",
        "    ids=[\"id1\", \"id2\", \"id3\", \"id4\", \"id5\", \"id6\", \"id7\", \"id8\"],\n",
        ")"
      ]
    },
    {
      "cell_type": "code",
      "execution_count": 35,
      "metadata": {},
      "outputs": [
        {
          "ename": "AttributeError",
          "evalue": "module 'chromadb' has no attribute 'PersistentClient'",
          "output_type": "error",
          "traceback": [
            "\u001b[1;31m---------------------------------------------------------------------------\u001b[0m",
            "\u001b[1;31mAttributeError\u001b[0m                            Traceback (most recent call last)",
            "Cell \u001b[1;32mIn[35], line 2\u001b[0m\n\u001b[0;32m      1\u001b[0m \u001b[39m# Create a new client with the same settings\u001b[39;00m\n\u001b[1;32m----> 2\u001b[0m client \u001b[39m=\u001b[39m chromadb\u001b[39m.\u001b[39;49mPersistentClient(path\u001b[39m=\u001b[39mpersist_directory)\n\u001b[0;32m      4\u001b[0m \u001b[39m# Load the collection\u001b[39;00m\n\u001b[0;32m      5\u001b[0m collection \u001b[39m=\u001b[39m client\u001b[39m.\u001b[39mget_collection(collection_name)\n",
            "\u001b[1;31mAttributeError\u001b[0m: module 'chromadb' has no attribute 'PersistentClient'"
          ]
        }
      ],
      "source": [
        "# # Create a new client with the same settings\n",
        "# client = chromadb.PersistentClient(path=persist_directory)\n",
        "\n",
        "# # Load the collection\n",
        "# collection = client.get_collection(collection_name)"
      ]
    },
    {
      "cell_type": "code",
      "execution_count": 61,
      "metadata": {},
      "outputs": [
        {
          "name": "stdout",
          "output_type": "stream",
          "text": [
            "<class 'list'>\n",
            "<class 'float'>\n",
            "1536\n",
            "{'ids': [['ab2f82bd-e0ee-11ed-818c-34f39a5a2a39', 'b190e5c9-e0ee-11ed-800a-34f39a5a2a39', '890b7485-e0ee-11ed-91c3-34f39a5a2a39', 'cd363cde-e0ee-11ed-bb29-34f39a5a2a39', '22bd41cc-e0ee-11ed-802c-34f39a5a2a39', '369227fc-e116-11ed-88e1-34f39a5a2a39', '27b9287f-e0ee-11ed-a24e-34f39a5a2a39', '87ca47cf-e0ee-11ed-852b-34f39a5a2a39', '8c0eba23-e0ee-11ed-ae09-34f39a5a2a39', '38b36209-e0ee-11ed-95d2-34f39a5a2a39']], 'embeddings': None, 'documents': [['1. 电驱系统是什么？它的作用是什么？\\n     2. 高压电池的电压是多少？它的作用是什么？\\n     3. 什么是安全气囊？它的作用是什么？\\n     4. 什么是空气弹簧？它的作用是什么？\\n     5. 什么是12V蓄电池？它的作用是什么？\\n     6. 什么是气囊控制单元？它的作用是什么？\\n     7. 什么是紧急高压切断插头？它的作用是什么？\\n     8. 什么是侧气帘？它的作用是什么？\\n     9. 什么是空调高压电加热器？它的作用是什么？\\n     10. 什么是安全带预张紧装置？它的作用是什么？', '1. 防石击薄膜的作用是什么？\\n     2. 防石击薄膜位于车身的哪个部位？\\n     3. 防石击薄膜能够防止什么样的损伤？\\n     4. 防石击薄膜能够保持车身的什么性质？\\n     5. 为什么不能在不采用任何额外保护的情况下部分或全部去除该薄膜？\\n     6. 什么是车身油漆？\\n     7. 什么是石子？\\n     8. 什么是颗粒状硬物？\\n     9. 什么是车身油漆的完整性？\\n     10. 什么是车身油漆的美观性？', '1. 安全气囊是什么？有什么作用？\\n     2. 安全气囊的引爆条件有哪些？\\n     3. 安全气囊系统包括哪些部分？\\n     4. 安全气囊引爆后车辆会执行哪些安全措施？\\n     5. 安全气囊警告灯是什么？它的作用是什么？\\n     6. 安全气囊与安全带的关系是什么？\\n     7. 安全气囊引爆时会产生什么？会对人体造成什么影响？\\n     8. 安全气囊的保护功能只能触发一次，为什么？\\n     9. 安全气囊引爆后，车辆会解锁所有车门，为什么？\\n     10. 安全气囊引爆后，车辆会开启危险警告灯，为什么？', '1. 什么是天窗隔热保护膜/冰甲？\\n     2. 安装天窗隔热保护膜/冰甲会对高级驾驶辅助系统相关功能产生什么影响？\\n     3. 安装车身改色膜或透明车衣时应该避开哪些区域？\\n     4. 安装侧挡膜时需要注意什么？\\n     5. 后挡玻璃膜有哪些注意事项？\\n     6. 贴膜时应该避开哪些区域？\\n     7. 天窗隔热保护膜安装后需要注意什么？\\n     8. 侧挡膜安装后需要注意什么？\\n     9. 后挡风玻璃膜安装后需要注意什么？\\n     10. 贴膜会对车辆的内后视镜防炫目功能产生影响吗？', '1. 什么是仪表台保险丝盒？\\n     2. 仪表台保险丝盒的作用是什么？\\n     3. 仪表台保险丝盒中有哪些设备指定名称？\\n     4. 仪表台保险丝盒中的保险丝额定值是多少？\\n     5. 仪表台保险丝盒中的保险丝尺寸是多少？\\n     6. 仪表台保险丝盒中的保险丝可以用相同电流强度和相同尺寸的保险丝更换损坏的保险丝吗？\\n     7. 仪表台保险丝盒中的设备指定名称对应的保险丝额定值是多少？\\n     8. 仪表台保险丝盒中的设备指定名称对应的保险丝尺寸是多少？\\n     9. 仪表台保险丝盒中的保险丝额定值和尺寸的选择有什么注意事项？\\n     10. 仪表台保险丝盒中的保险丝额定值和尺寸的选择与汽车的安全性有什么关系？', '1. 保险丝的额定值是什么？\\n     2. 保险丝的尺寸是什么？\\n     3. 保险丝的电流强度是多少？\\n     4. 后备箱保险丝盒中有哪些设备指定名称？\\n     5. 后除雾供电的继电器是哪一个？\\n     6. 尾门锁体供电的保险丝是哪一个？\\n     7. 多媒体系统主机的保险丝是哪一个？\\n     8. 后毫米波雷达供电的保险丝是哪一个？\\n     9. 前车身控制器的保险丝是哪一个？\\n     10. 柔性底盘控制器的保险丝是哪一个？', '1. 驱动电机识别标志的作用是什么？\\n     2. 前驱动电机识别标志和后驱动电机识别标志的位置有什么不同？\\n     3. 驱动电机识别标志的形状和颜色是什么样的？\\n     4. 驱动电机识别标志的材质是什么？\\n     5. 驱动电机识别标志的安装方式是什么？\\n     6. 驱动电机识别标志的尺寸是多少？\\n     7. 驱动电机识别标志的设计标准是什么？\\n     8. 驱动电机识别标志的制作工艺是什么？\\n     9. 驱动电机识别标志的防伪措施有哪些？\\n    10. 驱动电机识别标志的使用寿命是多久？', '1. 安全带的作用是什么？\\n     2. 安全带和安全气囊的配合使用可以起到什么作用？\\n     3. 安全带的预张紧力装置是什么？有什么作用？\\n     4. 安全带需要保持什么样的状态？如何检查安全带是否破损或老化？\\n     5. 安全带未系警告灯的作用是什么？如何处理？\\n     6. 安全带的使用方法是什么？\\n     7. 安全带过松或过紧都会带来什么危害？\\n     8. 孕妇佩戴安全带时需要注意什么？\\n     9. 安全带的预紧限力装置触发后需要怎么处理？\\n     10. 安全带的预张紧力装置触发后需要怎么处理？', '1. 什么是儿童安全座椅？\\n     2. 为什么要使用儿童安全座椅？\\n     3. 儿童安全座椅的使用注意事项有哪些？\\n     4. 儿童安全座椅的组别有哪些？\\n     5. 不同乘坐位置对儿童约束系统的适用性信息是什么？\\n     6. 不同ISOFIX位置对ISOFIX儿童约束系统的适用性信息是什么？\\n     7. 如何选用儿童安全座椅？\\n     8. 儿童安全座椅的安装方式有哪些？\\n     9. 如何使用车辆安全带固定儿童安全座椅？\\n     10. 如何使用ISOFIX接口固定儿童安全座椅？', '1. 什么是冬季胎？\\n     2. 冬季胎的作用是什么？\\n     3. 何时应该为车辆安装冬季轮胎？\\n     4. 低温环境下，轮胎性能会发生什么变化？\\n     5. 夏季轮胎在低温下的行驶性能会发生什么变化？\\n     6. 低于多少度的极低温度可能会对夏季轮胎造成永久性损坏？\\n     7. 为什么要在所有车轮上使用相同品牌和胎面花纹的冬季轮胎？\\n     8. 轮胎最高允许车速是多少？\\n     9. 胎面花纹深度不足4毫米的冬季轮胎为什么不能再提供足够的抓地能力？\\n     10. 胎面花纹深度不足4毫米的冬季轮胎可能会引起什么事故？']], 'metadatas': [[{'id': 'ab2f82bd-e0ee-11ed-818c-34f39a5a2a39', 'parent_id': '12bc199f-e0ee-11ed-aecc-34f39a5a2a39', 'type': 'Question', 'source_type': 'file', 'source_uri': '..\\\\data\\\\full\\\\TUM128526.txt', 'file_name': 'TUM128526.txt', 'source_file_name': 'KX11用户手册V1.3-20210610.pdf', 'source_group': '', 'source_squence': 0}, {'id': 'b190e5c9-e0ee-11ed-800a-34f39a5a2a39', 'parent_id': '12bc19ae-e0ee-11ed-a1fa-34f39a5a2a39', 'type': 'Question', 'source_type': 'file', 'source_uri': '..\\\\data\\\\full\\\\TUM129751.txt', 'file_name': 'TUM129751.txt', 'source_file_name': 'KX11用户手册V1.3-20210610.pdf', 'source_group': '', 'source_squence': 0}, {'id': '890b7485-e0ee-11ed-91c3-34f39a5a2a39', 'parent_id': '12bbf28a-e0ee-11ed-bb5c-34f39a5a2a39', 'type': 'Question', 'source_type': 'file', 'source_uri': '..\\\\data\\\\full\\\\TUM128334.txt', 'file_name': 'TUM128334.txt', 'source_file_name': 'KX11用户手册V1.3-20210610.pdf', 'source_group': '', 'source_squence': 0}, {'id': 'cd363cde-e0ee-11ed-bb29-34f39a5a2a39', 'parent_id': '12bc40a1-e0ee-11ed-b492-34f39a5a2a39', 'type': 'Question', 'source_type': 'file', 'source_uri': '..\\\\data\\\\full\\\\TUM134692.txt', 'file_name': 'TUM134692.txt', 'source_file_name': 'KX11用户手册V1.3-20210610.pdf', 'source_group': '', 'source_squence': 0}, {'id': '22bd41cc-e0ee-11ed-802c-34f39a5a2a39', 'parent_id': '12bb0848-e0ee-11ed-be0c-34f39a5a2a39', 'type': 'Question', 'source_type': 'file', 'source_uri': '..\\\\data\\\\full\\\\TUM128098.txt', 'file_name': 'TUM128098.txt', 'source_file_name': 'KX11用户手册V1.3-20210610.pdf', 'source_group': '', 'source_squence': 0}, {'id': '369227fc-e116-11ed-88e1-34f39a5a2a39', 'parent_id': '2d1a4293-e116-11ed-b59e-34f39a5a2a39', 'type': 'Question', 'source_type': 'file', 'source_uri': '..\\\\data\\\\full\\\\TUM128100.txt', 'file_name': 'TUM128100.txt', 'source_file_name': 'KX11用户手册V1.3-20210610.pdf', 'source_group': '', 'source_squence': 0}, {'id': '27b9287f-e0ee-11ed-a24e-34f39a5a2a39', 'parent_id': '12bb2f57-e0ee-11ed-9d52-34f39a5a2a39', 'type': 'Question', 'source_type': 'file', 'source_uri': '..\\\\data\\\\full\\\\TUM128118.txt', 'file_name': 'TUM128118.txt', 'source_file_name': 'KX11用户手册V1.3-20210610.pdf', 'source_group': '', 'source_squence': 0}, {'id': '87ca47cf-e0ee-11ed-852b-34f39a5a2a39', 'parent_id': '12bbf289-e0ee-11ed-8b21-34f39a5a2a39', 'type': 'Question', 'source_type': 'file', 'source_uri': '..\\\\data\\\\full\\\\TUM128332.txt', 'file_name': 'TUM128332.txt', 'source_file_name': 'KX11用户手册V1.3-20210610.pdf', 'source_group': '', 'source_squence': 0}, {'id': '8c0eba23-e0ee-11ed-ae09-34f39a5a2a39', 'parent_id': '12bbf28c-e0ee-11ed-b4e8-34f39a5a2a39', 'type': 'Question', 'source_type': 'file', 'source_uri': '..\\\\data\\\\full\\\\TUM128341.txt', 'file_name': 'TUM128341.txt', 'source_file_name': 'KX11用户手册V1.3-20210610.pdf', 'source_group': '', 'source_squence': 0}, {'id': '38b36209-e0ee-11ed-95d2-34f39a5a2a39', 'parent_id': '12bb564b-e0ee-11ed-ade8-34f39a5a2a39', 'type': 'Question', 'source_type': 'file', 'source_uri': '..\\\\data\\\\full\\\\TUM128132.txt', 'file_name': 'TUM128132.txt', 'source_file_name': 'KX11用户手册V1.3-20210610.pdf', 'source_group': '', 'source_squence': 0}]], 'distances': [[502.51141357421875, 502.5452880859375, 502.6128234863281, 502.65521240234375, 502.6849365234375, 502.6897888183594, 502.7207336425781, 502.72113037109375, 502.7625427246094, 502.79876708984375]]}\n"
          ]
        }
      ],
      "source": [
        "# Query the collection\n",
        "import numpy as np\n",
        "\n",
        "vector = np.random.rand(1536).astype(np.float32).tolist()\n",
        "\n",
        "results = collection.query(\n",
        "    query_embeddings=[vector],\n",
        "    n_results=10\n",
        ")\n",
        "print(type(vector))\n",
        "print(type(vector[0]))\n",
        "print(len(vector))  \n",
        "print(results)"
      ]
    },
    {
      "cell_type": "code",
      "execution_count": 28,
      "metadata": {},
      "outputs": [
        {
          "data": {
            "text/plain": [
              "{'ids': [], 'embeddings': [], 'metadatas': [], 'documents': []}"
            ]
          },
          "execution_count": 28,
          "metadata": {},
          "output_type": "execute_result"
        }
      ],
      "source": [
        "collection.get(include=[\"embeddings\", \"metadatas\", \"documents\"])"
      ]
    },
    {
      "cell_type": "code",
      "execution_count": 7,
      "metadata": {},
      "outputs": [],
      "source": [
        "# Clean up\n",
        "! rm -rf db"
      ]
    },
    {
      "cell_type": "code",
      "execution_count": null,
      "metadata": {},
      "outputs": [],
      "source": []
    }
  ],
  "metadata": {
    "kernelspec": {
      "display_name": "chroma",
      "language": "python",
      "name": "python3"
    },
    "language_info": {
      "codemirror_mode": {
        "name": "ipython",
        "version": 3
      },
      "file_extension": ".py",
      "mimetype": "text/x-python",
      "name": "python",
      "nbconvert_exporter": "python",
      "pygments_lexer": "ipython3",
      "version": "3.11.4"
    },
    "orig_nbformat": 4,
    "vscode": {
      "interpreter": {
        "hash": "88f09714c9334832bac29166716f9f6a879ee2a4ed4822c1d4120cb2393b58dd"
      }
    }
  },
  "nbformat": 4,
  "nbformat_minor": 2
}
