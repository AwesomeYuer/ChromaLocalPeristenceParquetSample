{
  "cells": [
    {
      "attachments": {},
      "cell_type": "markdown",
      "metadata": {},
      "source": [
        "# Local Peristence Demo\n",
        "This notebook demonstrates how to configure Chroma to persist to disk, then load it back in. "
      ]
    },
    {
      "cell_type": "code",
      "execution_count": 2,
      "metadata": {},
      "outputs": [
        {
          "name": "stdout",
          "output_type": "stream",
          "text": [
            "Collecting chromadb==0.3.26\n",
            "  Using cached chromadb-0.3.26-py3-none-any.whl (123 kB)\n",
            "Requirement already satisfied: pandas>=1.3 in d:\\python311\\lib\\site-packages (from chromadb==0.3.26) (2.0.3)\n",
            "Requirement already satisfied: requests>=2.28 in d:\\python311\\lib\\site-packages (from chromadb==0.3.26) (2.31.0)\n",
            "Requirement already satisfied: pydantic>=1.9 in d:\\python311\\lib\\site-packages (from chromadb==0.3.26) (1.10.12)\n",
            "Collecting hnswlib>=0.7 (from chromadb==0.3.26)\n",
            "  Using cached hnswlib-0.7.0-cp311-cp311-win_amd64.whl\n",
            "Collecting clickhouse-connect>=0.5.7 (from chromadb==0.3.26)\n",
            "  Using cached clickhouse_connect-0.6.9-cp311-cp311-win_amd64.whl (228 kB)\n",
            "Requirement already satisfied: duckdb>=0.7.1 in d:\\python311\\lib\\site-packages (from chromadb==0.3.26) (0.8.1)\n",
            "Requirement already satisfied: fastapi>=0.85.1 in d:\\python311\\lib\\site-packages (from chromadb==0.3.26) (0.99.1)\n",
            "Requirement already satisfied: uvicorn[standard]>=0.18.3 in d:\\python311\\lib\\site-packages (from chromadb==0.3.26) (0.23.2)\n",
            "Requirement already satisfied: numpy>=1.21.6 in d:\\python311\\lib\\site-packages (from chromadb==0.3.26) (1.25.0)\n",
            "Requirement already satisfied: posthog>=2.4.0 in d:\\python311\\lib\\site-packages (from chromadb==0.3.26) (3.0.2)\n",
            "Requirement already satisfied: typing-extensions>=4.5.0 in d:\\python311\\lib\\site-packages (from chromadb==0.3.26) (4.7.1)\n",
            "Requirement already satisfied: pulsar-client>=3.1.0 in d:\\python311\\lib\\site-packages (from chromadb==0.3.26) (3.2.0)\n",
            "Requirement already satisfied: onnxruntime>=1.14.1 in d:\\python311\\lib\\site-packages (from chromadb==0.3.26) (1.15.1)\n",
            "Requirement already satisfied: tokenizers>=0.13.2 in d:\\python311\\lib\\site-packages (from chromadb==0.3.26) (0.13.3)\n",
            "Requirement already satisfied: tqdm>=4.65.0 in d:\\python311\\lib\\site-packages (from chromadb==0.3.26) (4.65.0)\n",
            "Requirement already satisfied: overrides>=7.3.1 in d:\\python311\\lib\\site-packages (from chromadb==0.3.26) (7.4.0)\n",
            "Requirement already satisfied: certifi in d:\\python311\\lib\\site-packages (from clickhouse-connect>=0.5.7->chromadb==0.3.26) (2023.5.7)\n",
            "Requirement already satisfied: urllib3>=1.26 in d:\\python311\\lib\\site-packages (from clickhouse-connect>=0.5.7->chromadb==0.3.26) (2.0.3)\n",
            "Requirement already satisfied: pytz in d:\\python311\\lib\\site-packages (from clickhouse-connect>=0.5.7->chromadb==0.3.26) (2023.3)\n",
            "Requirement already satisfied: zstandard in d:\\python311\\lib\\site-packages (from clickhouse-connect>=0.5.7->chromadb==0.3.26) (0.21.0)\n",
            "Requirement already satisfied: lz4 in d:\\python311\\lib\\site-packages (from clickhouse-connect>=0.5.7->chromadb==0.3.26) (4.3.2)\n",
            "Requirement already satisfied: starlette<0.28.0,>=0.27.0 in d:\\python311\\lib\\site-packages (from fastapi>=0.85.1->chromadb==0.3.26) (0.27.0)\n",
            "Requirement already satisfied: coloredlogs in d:\\python311\\lib\\site-packages (from onnxruntime>=1.14.1->chromadb==0.3.26) (15.0.1)\n",
            "Requirement already satisfied: flatbuffers in d:\\python311\\lib\\site-packages (from onnxruntime>=1.14.1->chromadb==0.3.26) (23.5.26)\n",
            "Requirement already satisfied: packaging in c:\\users\\xiyueyu\\appdata\\roaming\\python\\python311\\site-packages (from onnxruntime>=1.14.1->chromadb==0.3.26) (23.1)\n",
            "Requirement already satisfied: protobuf in d:\\python311\\lib\\site-packages (from onnxruntime>=1.14.1->chromadb==0.3.26) (4.24.1)\n",
            "Requirement already satisfied: sympy in d:\\python311\\lib\\site-packages (from onnxruntime>=1.14.1->chromadb==0.3.26) (1.12)\n",
            "Requirement already satisfied: python-dateutil>=2.8.2 in c:\\users\\xiyueyu\\appdata\\roaming\\python\\python311\\site-packages (from pandas>=1.3->chromadb==0.3.26) (2.8.2)\n",
            "Requirement already satisfied: tzdata>=2022.1 in d:\\python311\\lib\\site-packages (from pandas>=1.3->chromadb==0.3.26) (2023.3)\n",
            "Requirement already satisfied: six>=1.5 in c:\\users\\xiyueyu\\appdata\\roaming\\python\\python311\\site-packages (from posthog>=2.4.0->chromadb==0.3.26) (1.16.0)\n",
            "Requirement already satisfied: monotonic>=1.5 in d:\\python311\\lib\\site-packages (from posthog>=2.4.0->chromadb==0.3.26) (1.6)\n",
            "Requirement already satisfied: backoff>=1.10.0 in d:\\python311\\lib\\site-packages (from posthog>=2.4.0->chromadb==0.3.26) (2.2.1)\n",
            "Requirement already satisfied: charset-normalizer<4,>=2 in d:\\python311\\lib\\site-packages (from requests>=2.28->chromadb==0.3.26) (3.1.0)\n",
            "Requirement already satisfied: idna<4,>=2.5 in d:\\python311\\lib\\site-packages (from requests>=2.28->chromadb==0.3.26) (3.4)\n",
            "Requirement already satisfied: colorama in c:\\users\\xiyueyu\\appdata\\roaming\\python\\python311\\site-packages (from tqdm>=4.65.0->chromadb==0.3.26) (0.4.6)\n",
            "Requirement already satisfied: click>=7.0 in d:\\python311\\lib\\site-packages (from uvicorn[standard]>=0.18.3->chromadb==0.3.26) (8.1.7)\n",
            "Requirement already satisfied: h11>=0.8 in d:\\python311\\lib\\site-packages (from uvicorn[standard]>=0.18.3->chromadb==0.3.26) (0.14.0)\n",
            "Requirement already satisfied: httptools>=0.5.0 in d:\\python311\\lib\\site-packages (from uvicorn[standard]>=0.18.3->chromadb==0.3.26) (0.6.0)\n",
            "Requirement already satisfied: python-dotenv>=0.13 in d:\\python311\\lib\\site-packages (from uvicorn[standard]>=0.18.3->chromadb==0.3.26) (1.0.0)\n",
            "Requirement already satisfied: pyyaml>=5.1 in d:\\python311\\lib\\site-packages (from uvicorn[standard]>=0.18.3->chromadb==0.3.26) (6.0.1)\n",
            "Requirement already satisfied: watchfiles>=0.13 in d:\\python311\\lib\\site-packages (from uvicorn[standard]>=0.18.3->chromadb==0.3.26) (0.20.0)\n",
            "Requirement already satisfied: websockets>=10.4 in d:\\python311\\lib\\site-packages (from uvicorn[standard]>=0.18.3->chromadb==0.3.26) (11.0.3)\n",
            "Requirement already satisfied: anyio<5,>=3.4.0 in d:\\python311\\lib\\site-packages (from starlette<0.28.0,>=0.27.0->fastapi>=0.85.1->chromadb==0.3.26) (3.7.1)\n",
            "Requirement already satisfied: humanfriendly>=9.1 in d:\\python311\\lib\\site-packages (from coloredlogs->onnxruntime>=1.14.1->chromadb==0.3.26) (10.0)\n",
            "Requirement already satisfied: mpmath>=0.19 in d:\\python311\\lib\\site-packages (from sympy->onnxruntime>=1.14.1->chromadb==0.3.26) (1.3.0)\n",
            "Requirement already satisfied: sniffio>=1.1 in d:\\python311\\lib\\site-packages (from anyio<5,>=3.4.0->starlette<0.28.0,>=0.27.0->fastapi>=0.85.1->chromadb==0.3.26) (1.3.0)\n",
            "Requirement already satisfied: pyreadline3 in d:\\python311\\lib\\site-packages (from humanfriendly>=9.1->coloredlogs->onnxruntime>=1.14.1->chromadb==0.3.26) (3.4.1)\n",
            "Installing collected packages: hnswlib, clickhouse-connect, chromadb\n",
            "  Attempting uninstall: chromadb\n",
            "    Found existing installation: chromadb 0.4.7\n",
            "    Uninstalling chromadb-0.4.7:\n",
            "      Successfully uninstalled chromadb-0.4.7\n",
            "Successfully installed chromadb-0.3.26 clickhouse-connect-0.6.9 hnswlib-0.7.0\n",
            "Note: you may need to restart the kernel to use updated packages.\n"
          ]
        },
        {
          "name": "stderr",
          "output_type": "stream",
          "text": [
            "\n",
            "[notice] A new release of pip is available: 23.1.2 -> 23.2.1\n",
            "[notice] To update, run: python.exe -m pip install --upgrade pip\n"
          ]
        }
      ],
      "source": [
        "%pip install chromadb==0.3.26"
      ]
    },
    {
      "cell_type": "code",
      "execution_count": 3,
      "metadata": {},
      "outputs": [
        {
          "name": "stdout",
          "output_type": "stream",
          "text": [
            "Requirement already satisfied: pyarrow in d:\\python311\\lib\\site-packages (13.0.0)\n",
            "Requirement already satisfied: numpy>=1.16.6 in d:\\python311\\lib\\site-packages (from pyarrow) (1.25.0)\n",
            "Note: you may need to restart the kernel to use updated packages.\n"
          ]
        },
        {
          "name": "stderr",
          "output_type": "stream",
          "text": [
            "\n",
            "[notice] A new release of pip is available: 23.1.2 -> 23.2.1\n",
            "[notice] To update, run: python.exe -m pip install --upgrade pip\n"
          ]
        },
        {
          "name": "stdout",
          "output_type": "stream",
          "text": [
            "Requirement already satisfied: pandas in d:\\python311\\lib\\site-packages (2.0.3)\n",
            "Requirement already satisfied: python-dateutil>=2.8.2 in c:\\users\\xiyueyu\\appdata\\roaming\\python\\python311\\site-packages (from pandas) (2.8.2)\n",
            "Requirement already satisfied: pytz>=2020.1 in d:\\python311\\lib\\site-packages (from pandas) (2023.3)\n",
            "Requirement already satisfied: tzdata>=2022.1 in d:\\python311\\lib\\site-packages (from pandas) (2023.3)\n",
            "Requirement already satisfied: numpy>=1.21.0 in d:\\python311\\lib\\site-packages (from pandas) (1.25.0)\n",
            "Requirement already satisfied: six>=1.5 in c:\\users\\xiyueyu\\appdata\\roaming\\python\\python311\\site-packages (from python-dateutil>=2.8.2->pandas) (1.16.0)\n",
            "Note: you may need to restart the kernel to use updated packages.\n"
          ]
        },
        {
          "name": "stderr",
          "output_type": "stream",
          "text": [
            "\n",
            "[notice] A new release of pip is available: 23.1.2 -> 23.2.1\n",
            "[notice] To update, run: python.exe -m pip install --upgrade pip\n"
          ]
        }
      ],
      "source": [
        "%pip install pyarrow\n",
        "%pip install pandas"
      ]
    },
    {
      "cell_type": "code",
      "execution_count": 1,
      "metadata": {},
      "outputs": [
        {
          "ename": "ModuleNotFoundError",
          "evalue": "No module named 'pyarrow'",
          "output_type": "error",
          "traceback": [
            "\u001b[1;31m---------------------------------------------------------------------------\u001b[0m",
            "\u001b[1;31mModuleNotFoundError\u001b[0m                       Traceback (most recent call last)",
            "Cell \u001b[1;32mIn[1], line 1\u001b[0m\n\u001b[1;32m----> 1\u001b[0m \u001b[39mimport\u001b[39;00m \u001b[39mpyarrow\u001b[39;00m \u001b[39mas\u001b[39;00m \u001b[39mpa\u001b[39;00m\n\u001b[0;32m      2\u001b[0m \u001b[39mimport\u001b[39;00m \u001b[39mpyarrow\u001b[39;00m\u001b[39m.\u001b[39;00m\u001b[39mparquet\u001b[39;00m \u001b[39mas\u001b[39;00m \u001b[39mpq\u001b[39;00m\n\u001b[0;32m      3\u001b[0m \u001b[39mimport\u001b[39;00m \u001b[39mpandas\u001b[39;00m \u001b[39mas\u001b[39;00m \u001b[39mpd\u001b[39;00m\n",
            "\u001b[1;31mModuleNotFoundError\u001b[0m: No module named 'pyarrow'"
          ]
        }
      ],
      "source": [
        "import pyarrow as pa\n",
        "import pyarrow.parquet as pq\n",
        "import pandas as pd\n",
        "\n",
        "# Create a Pandas DataFrame\n",
        "data = {\n",
        "        \n",
        "        #'column1': [1, 2, 3, 4, 5],\n",
        "        #'column2': ['a', 'b', 'c', 'd', 'e']\n",
        "\n",
        "        'embeddings' : [\n",
        "            [1.1, 2.3, 3.2],\n",
        "            [4.5, 6.9, 4.4],\n",
        "            [1.1, 2.3, 3.2],\n",
        "            [4.5, 6.9, 4.4],\n",
        "            [1.1, 2.3, 3.2],\n",
        "            [4.5, 6.9, 4.4],\n",
        "            [1.1, 2.3, 3.2],\n",
        "            [4.5, 6.9, 4.4],\n",
        "        ],\n",
        "        'metadatas': [\n",
        "            {\"uri\": \"img1.png\", \"style\": \"style1\"},\n",
        "            {\"uri\": \"img2.png\", \"style\": \"style2\"},\n",
        "            {\"uri\": \"img3.png\", \"style\": \"style1\"},\n",
        "            {\"uri\": \"img4.png\", \"style\": \"style1\"},\n",
        "            {\"uri\": \"img5.png\", \"style\": \"style1\"},\n",
        "            {\"uri\": \"img6.png\", \"style\": \"style1\"},\n",
        "            {\"uri\": \"img7.png\", \"style\": \"style1\"},\n",
        "            {\"uri\": \"img8.png\", \"style\": \"style1\"},\n",
        "        ],\n",
        "        'documents': [\"doc1\", \"doc2\", \"doc3\", \"doc4\", \"doc5\", \"doc6\", \"doc7\", \"doc8\"],\n",
        "        'ids': [\"id1\", \"id2\", \"id3\", \"id4\", \"id5\", \"id6\", \"id7\", \"id8\"],\n",
        "        \n",
        "        \n",
        "    }\n",
        "df = pd.DataFrame(data)\n",
        "\n",
        "# Convert the DataFrame to a PyArrow Table\n",
        "table = pa.Table.from_pandas(df)\n",
        "\n",
        "# Define the Parquet file path\n",
        "file_path = 'parquet\\example.parquet'\n",
        "\n",
        "# Write the PyArrow Table to a Parquet file\n",
        "pq.write_table(table, file_path)"
      ]
    },
    {
      "cell_type": "code",
      "execution_count": 4,
      "metadata": {},
      "outputs": [],
      "source": [
        "import chromadb"
      ]
    },
    {
      "cell_type": "code",
      "execution_count": 26,
      "metadata": {},
      "outputs": [
        {
          "name": "stdout",
          "output_type": "stream",
          "text": [
            "552\n"
          ]
        }
      ],
      "source": [
        "# Create a new Chroma client with persistence enabled. \n",
        "\n",
        "settings = chromadb.config.Settings(persist_directory=\"db\\chromadb\",chroma_db_impl='duckdb+parquet')\n",
        "\n",
        "client = chromadb.Client(settings)\n",
        "# Create a new chroma collection\n",
        "collection_name = \"collection_1\"\n",
        "collection = client.get_or_create_collection(name=collection_name)\n",
        "\n",
        "print(collection.count())"
      ]
    },
    {
      "cell_type": "code",
      "execution_count": 4,
      "metadata": {},
      "outputs": [
        {
          "ename": "NameError",
          "evalue": "name 'collection' is not defined",
          "output_type": "error",
          "traceback": [
            "\u001b[1;31m---------------------------------------------------------------------------\u001b[0m",
            "\u001b[1;31mNameError\u001b[0m                                 Traceback (most recent call last)",
            "Cell \u001b[1;32mIn[4], line 2\u001b[0m\n\u001b[0;32m      1\u001b[0m \u001b[39m# Add some data to the collection\u001b[39;00m\n\u001b[1;32m----> 2\u001b[0m collection\u001b[39m.\u001b[39madd(\n\u001b[0;32m      3\u001b[0m     embeddings\u001b[39m=\u001b[39m[\n\u001b[0;32m      4\u001b[0m         [\u001b[39m1.1\u001b[39m, \u001b[39m2.3\u001b[39m, \u001b[39m3.2\u001b[39m],\n\u001b[0;32m      5\u001b[0m         [\u001b[39m4.5\u001b[39m, \u001b[39m6.9\u001b[39m, \u001b[39m4.4\u001b[39m],\n\u001b[0;32m      6\u001b[0m         [\u001b[39m1.1\u001b[39m, \u001b[39m2.3\u001b[39m, \u001b[39m3.2\u001b[39m],\n\u001b[0;32m      7\u001b[0m         [\u001b[39m4.5\u001b[39m, \u001b[39m6.9\u001b[39m, \u001b[39m4.4\u001b[39m],\n\u001b[0;32m      8\u001b[0m         [\u001b[39m1.1\u001b[39m, \u001b[39m2.3\u001b[39m, \u001b[39m3.2\u001b[39m],\n\u001b[0;32m      9\u001b[0m         [\u001b[39m4.5\u001b[39m, \u001b[39m6.9\u001b[39m, \u001b[39m4.4\u001b[39m],\n\u001b[0;32m     10\u001b[0m         [\u001b[39m1.1\u001b[39m, \u001b[39m2.3\u001b[39m, \u001b[39m3.2\u001b[39m],\n\u001b[0;32m     11\u001b[0m         [\u001b[39m4.5\u001b[39m, \u001b[39m6.9\u001b[39m, \u001b[39m4.4\u001b[39m],\n\u001b[0;32m     12\u001b[0m     ],\n\u001b[0;32m     13\u001b[0m     metadatas\u001b[39m=\u001b[39m[\n\u001b[0;32m     14\u001b[0m         {\u001b[39m\"\u001b[39m\u001b[39muri\u001b[39m\u001b[39m\"\u001b[39m: \u001b[39m\"\u001b[39m\u001b[39mimg1.png\u001b[39m\u001b[39m\"\u001b[39m, \u001b[39m\"\u001b[39m\u001b[39mstyle\u001b[39m\u001b[39m\"\u001b[39m: \u001b[39m\"\u001b[39m\u001b[39mstyle1\u001b[39m\u001b[39m\"\u001b[39m},\n\u001b[0;32m     15\u001b[0m         {\u001b[39m\"\u001b[39m\u001b[39muri\u001b[39m\u001b[39m\"\u001b[39m: \u001b[39m\"\u001b[39m\u001b[39mimg2.png\u001b[39m\u001b[39m\"\u001b[39m, \u001b[39m\"\u001b[39m\u001b[39mstyle\u001b[39m\u001b[39m\"\u001b[39m: \u001b[39m\"\u001b[39m\u001b[39mstyle2\u001b[39m\u001b[39m\"\u001b[39m},\n\u001b[0;32m     16\u001b[0m         {\u001b[39m\"\u001b[39m\u001b[39muri\u001b[39m\u001b[39m\"\u001b[39m: \u001b[39m\"\u001b[39m\u001b[39mimg3.png\u001b[39m\u001b[39m\"\u001b[39m, \u001b[39m\"\u001b[39m\u001b[39mstyle\u001b[39m\u001b[39m\"\u001b[39m: \u001b[39m\"\u001b[39m\u001b[39mstyle1\u001b[39m\u001b[39m\"\u001b[39m},\n\u001b[0;32m     17\u001b[0m         {\u001b[39m\"\u001b[39m\u001b[39muri\u001b[39m\u001b[39m\"\u001b[39m: \u001b[39m\"\u001b[39m\u001b[39mimg4.png\u001b[39m\u001b[39m\"\u001b[39m, \u001b[39m\"\u001b[39m\u001b[39mstyle\u001b[39m\u001b[39m\"\u001b[39m: \u001b[39m\"\u001b[39m\u001b[39mstyle1\u001b[39m\u001b[39m\"\u001b[39m},\n\u001b[0;32m     18\u001b[0m         {\u001b[39m\"\u001b[39m\u001b[39muri\u001b[39m\u001b[39m\"\u001b[39m: \u001b[39m\"\u001b[39m\u001b[39mimg5.png\u001b[39m\u001b[39m\"\u001b[39m, \u001b[39m\"\u001b[39m\u001b[39mstyle\u001b[39m\u001b[39m\"\u001b[39m: \u001b[39m\"\u001b[39m\u001b[39mstyle1\u001b[39m\u001b[39m\"\u001b[39m},\n\u001b[0;32m     19\u001b[0m         {\u001b[39m\"\u001b[39m\u001b[39muri\u001b[39m\u001b[39m\"\u001b[39m: \u001b[39m\"\u001b[39m\u001b[39mimg6.png\u001b[39m\u001b[39m\"\u001b[39m, \u001b[39m\"\u001b[39m\u001b[39mstyle\u001b[39m\u001b[39m\"\u001b[39m: \u001b[39m\"\u001b[39m\u001b[39mstyle1\u001b[39m\u001b[39m\"\u001b[39m},\n\u001b[0;32m     20\u001b[0m         {\u001b[39m\"\u001b[39m\u001b[39muri\u001b[39m\u001b[39m\"\u001b[39m: \u001b[39m\"\u001b[39m\u001b[39mimg7.png\u001b[39m\u001b[39m\"\u001b[39m, \u001b[39m\"\u001b[39m\u001b[39mstyle\u001b[39m\u001b[39m\"\u001b[39m: \u001b[39m\"\u001b[39m\u001b[39mstyle1\u001b[39m\u001b[39m\"\u001b[39m},\n\u001b[0;32m     21\u001b[0m         {\u001b[39m\"\u001b[39m\u001b[39muri\u001b[39m\u001b[39m\"\u001b[39m: \u001b[39m\"\u001b[39m\u001b[39mimg8.png\u001b[39m\u001b[39m\"\u001b[39m, \u001b[39m\"\u001b[39m\u001b[39mstyle\u001b[39m\u001b[39m\"\u001b[39m: \u001b[39m\"\u001b[39m\u001b[39mstyle1\u001b[39m\u001b[39m\"\u001b[39m},\n\u001b[0;32m     22\u001b[0m     ],\n\u001b[0;32m     23\u001b[0m     documents\u001b[39m=\u001b[39m[\u001b[39m\"\u001b[39m\u001b[39mdoc1\u001b[39m\u001b[39m\"\u001b[39m, \u001b[39m\"\u001b[39m\u001b[39mdoc2\u001b[39m\u001b[39m\"\u001b[39m, \u001b[39m\"\u001b[39m\u001b[39mdoc3\u001b[39m\u001b[39m\"\u001b[39m, \u001b[39m\"\u001b[39m\u001b[39mdoc4\u001b[39m\u001b[39m\"\u001b[39m, \u001b[39m\"\u001b[39m\u001b[39mdoc5\u001b[39m\u001b[39m\"\u001b[39m, \u001b[39m\"\u001b[39m\u001b[39mdoc6\u001b[39m\u001b[39m\"\u001b[39m, \u001b[39m\"\u001b[39m\u001b[39mdoc7\u001b[39m\u001b[39m\"\u001b[39m, \u001b[39m\"\u001b[39m\u001b[39mdoc8\u001b[39m\u001b[39m\"\u001b[39m],\n\u001b[0;32m     24\u001b[0m     ids\u001b[39m=\u001b[39m[\u001b[39m\"\u001b[39m\u001b[39mid1\u001b[39m\u001b[39m\"\u001b[39m, \u001b[39m\"\u001b[39m\u001b[39mid2\u001b[39m\u001b[39m\"\u001b[39m, \u001b[39m\"\u001b[39m\u001b[39mid3\u001b[39m\u001b[39m\"\u001b[39m, \u001b[39m\"\u001b[39m\u001b[39mid4\u001b[39m\u001b[39m\"\u001b[39m, \u001b[39m\"\u001b[39m\u001b[39mid5\u001b[39m\u001b[39m\"\u001b[39m, \u001b[39m\"\u001b[39m\u001b[39mid6\u001b[39m\u001b[39m\"\u001b[39m, \u001b[39m\"\u001b[39m\u001b[39mid7\u001b[39m\u001b[39m\"\u001b[39m, \u001b[39m\"\u001b[39m\u001b[39mid8\u001b[39m\u001b[39m\"\u001b[39m],\n\u001b[0;32m     25\u001b[0m )\n",
            "\u001b[1;31mNameError\u001b[0m: name 'collection' is not defined"
          ]
        }
      ],
      "source": [
        "# Add some data to the collection\n",
        "collection.add(\n",
        "    embeddings=[\n",
        "        [1.1, 2.3, 3.2],\n",
        "        [4.5, 6.9, 4.4],\n",
        "        [1.1, 2.3, 3.2],\n",
        "        [4.5, 6.9, 4.4],\n",
        "        [1.1, 2.3, 3.2],\n",
        "        [4.5, 6.9, 4.4],\n",
        "        [1.1, 2.3, 3.2],\n",
        "        [4.5, 6.9, 4.4],\n",
        "    ],\n",
        "    metadatas=[\n",
        "        {\"uri\": \"img1.png\", \"style\": \"style1\"},\n",
        "        {\"uri\": \"img2.png\", \"style\": \"style2\"},\n",
        "        {\"uri\": \"img3.png\", \"style\": \"style1\"},\n",
        "        {\"uri\": \"img4.png\", \"style\": \"style1\"},\n",
        "        {\"uri\": \"img5.png\", \"style\": \"style1\"},\n",
        "        {\"uri\": \"img6.png\", \"style\": \"style1\"},\n",
        "        {\"uri\": \"img7.png\", \"style\": \"style1\"},\n",
        "        {\"uri\": \"img8.png\", \"style\": \"style1\"},\n",
        "    ],\n",
        "    documents=[\"doc1\", \"doc2\", \"doc3\", \"doc4\", \"doc5\", \"doc6\", \"doc7\", \"doc8\"],\n",
        "    ids=[\"id1\", \"id2\", \"id3\", \"id4\", \"id5\", \"id6\", \"id7\", \"id8\"],\n",
        ")"
      ]
    },
    {
      "cell_type": "code",
      "execution_count": 29,
      "metadata": {},
      "outputs": [],
      "source": [
        "# Create a new client with the same settings\n",
        "client = chromadb.PersistentClient(path=persist_directory)\n",
        "\n",
        "# Load the collection\n",
        "collection = client.get_collection(collection_name)"
      ]
    },
    {
      "cell_type": "code",
      "execution_count": 30,
      "metadata": {},
      "outputs": [
        {
          "ename": "ValueError",
          "evalue": "Expected each embedding in the embeddings to be a list, got [array([[0.35012555, 0.30736738, 0.37419567, ..., 0.17984603, 0.8715208 ,\n        0.5717568 ]], dtype=float32)]",
          "output_type": "error",
          "traceback": [
            "\u001b[1;31m---------------------------------------------------------------------------\u001b[0m",
            "\u001b[1;31mValueError\u001b[0m                                Traceback (most recent call last)",
            "Cell \u001b[1;32mIn[30], line 8\u001b[0m\n\u001b[0;32m      5\u001b[0m dim \u001b[39m=\u001b[39m \u001b[39m1536\u001b[39m\n\u001b[0;32m      6\u001b[0m vectors \u001b[39m=\u001b[39m np\u001b[39m.\u001b[39mrandom\u001b[39m.\u001b[39mrand(count, dim)\u001b[39m.\u001b[39mastype(np\u001b[39m.\u001b[39mfloat32)\n\u001b[1;32m----> 8\u001b[0m results \u001b[39m=\u001b[39m collection\u001b[39m.\u001b[39;49mquery(\n\u001b[0;32m      9\u001b[0m     query_embeddings\u001b[39m=\u001b[39;49m[vectors],\n\u001b[0;32m     10\u001b[0m     n_results\u001b[39m=\u001b[39;49m\u001b[39m1\u001b[39;49m\n\u001b[0;32m     11\u001b[0m )\n\u001b[0;32m     13\u001b[0m \u001b[39mprint\u001b[39m(results)\n",
            "File \u001b[1;32md:\\Python311\\Lib\\site-packages\\chromadb\\api\\models\\Collection.py:188\u001b[0m, in \u001b[0;36mCollection.query\u001b[1;34m(self, query_embeddings, query_texts, n_results, where, where_document, include)\u001b[0m\n\u001b[0;32m    183\u001b[0m where \u001b[39m=\u001b[39m validate_where(where) \u001b[39mif\u001b[39;00m where \u001b[39melse\u001b[39;00m \u001b[39mNone\u001b[39;00m\n\u001b[0;32m    184\u001b[0m where_document \u001b[39m=\u001b[39m (\n\u001b[0;32m    185\u001b[0m     validate_where_document(where_document) \u001b[39mif\u001b[39;00m where_document \u001b[39melse\u001b[39;00m \u001b[39mNone\u001b[39;00m\n\u001b[0;32m    186\u001b[0m )\n\u001b[0;32m    187\u001b[0m query_embeddings \u001b[39m=\u001b[39m (\n\u001b[1;32m--> 188\u001b[0m     validate_embeddings(maybe_cast_one_to_many(query_embeddings))\n\u001b[0;32m    189\u001b[0m     \u001b[39mif\u001b[39;00m query_embeddings \u001b[39mis\u001b[39;00m \u001b[39mnot\u001b[39;00m \u001b[39mNone\u001b[39;00m\n\u001b[0;32m    190\u001b[0m     \u001b[39melse\u001b[39;00m \u001b[39mNone\u001b[39;00m\n\u001b[0;32m    191\u001b[0m )\n\u001b[0;32m    192\u001b[0m query_texts \u001b[39m=\u001b[39m (\n\u001b[0;32m    193\u001b[0m     maybe_cast_one_to_many(query_texts) \u001b[39mif\u001b[39;00m query_texts \u001b[39mis\u001b[39;00m \u001b[39mnot\u001b[39;00m \u001b[39mNone\u001b[39;00m \u001b[39melse\u001b[39;00m \u001b[39mNone\u001b[39;00m\n\u001b[0;32m    194\u001b[0m )\n\u001b[0;32m    195\u001b[0m include \u001b[39m=\u001b[39m validate_include(include, allow_distances\u001b[39m=\u001b[39m\u001b[39mTrue\u001b[39;00m)\n",
            "File \u001b[1;32md:\\Python311\\Lib\\site-packages\\chromadb\\api\\types.py:284\u001b[0m, in \u001b[0;36mvalidate_embeddings\u001b[1;34m(embeddings)\u001b[0m\n\u001b[0;32m    280\u001b[0m     \u001b[39mraise\u001b[39;00m \u001b[39mValueError\u001b[39;00m(\n\u001b[0;32m    281\u001b[0m         \u001b[39mf\u001b[39m\u001b[39m\"\u001b[39m\u001b[39mExpected embeddings to be a list with at least one item, got \u001b[39m\u001b[39m{\u001b[39;00membeddings\u001b[39m}\u001b[39;00m\u001b[39m\"\u001b[39m\n\u001b[0;32m    282\u001b[0m     )\n\u001b[0;32m    283\u001b[0m \u001b[39mif\u001b[39;00m \u001b[39mnot\u001b[39;00m \u001b[39mall\u001b[39m([\u001b[39misinstance\u001b[39m(e, \u001b[39mlist\u001b[39m) \u001b[39mfor\u001b[39;00m e \u001b[39min\u001b[39;00m embeddings]):\n\u001b[1;32m--> 284\u001b[0m     \u001b[39mraise\u001b[39;00m \u001b[39mValueError\u001b[39;00m(\n\u001b[0;32m    285\u001b[0m         \u001b[39mf\u001b[39m\u001b[39m\"\u001b[39m\u001b[39mExpected each embedding in the embeddings to be a list, got \u001b[39m\u001b[39m{\u001b[39;00membeddings\u001b[39m}\u001b[39;00m\u001b[39m\"\u001b[39m\n\u001b[0;32m    286\u001b[0m     )\n\u001b[0;32m    287\u001b[0m \u001b[39mfor\u001b[39;00m embedding \u001b[39min\u001b[39;00m embeddings:\n\u001b[0;32m    288\u001b[0m     \u001b[39mif\u001b[39;00m \u001b[39mnot\u001b[39;00m \u001b[39mall\u001b[39m([\u001b[39misinstance\u001b[39m(value, (\u001b[39mint\u001b[39m, \u001b[39mfloat\u001b[39m)) \u001b[39mfor\u001b[39;00m value \u001b[39min\u001b[39;00m embedding]):\n",
            "\u001b[1;31mValueError\u001b[0m: Expected each embedding in the embeddings to be a list, got [array([[0.35012555, 0.30736738, 0.37419567, ..., 0.17984603, 0.8715208 ,\n        0.5717568 ]], dtype=float32)]"
          ]
        }
      ],
      "source": [
        "# Query the collection\n",
        "import numpy as np\n",
        "\n",
        "vector = np.random.rand(1536).astype(np.float32)\n",
        "\n",
        "results = collection.query(\n",
        "    query_embeddings=[vectors],\n",
        "    n_results=1\n",
        ")\n",
        "\n",
        "print(results)"
      ]
    },
    {
      "cell_type": "code",
      "execution_count": 28,
      "metadata": {},
      "outputs": [
        {
          "data": {
            "text/plain": [
              "{'ids': [], 'embeddings': [], 'metadatas': [], 'documents': []}"
            ]
          },
          "execution_count": 28,
          "metadata": {},
          "output_type": "execute_result"
        }
      ],
      "source": [
        "collection.get(include=[\"embeddings\", \"metadatas\", \"documents\"])"
      ]
    },
    {
      "cell_type": "code",
      "execution_count": 7,
      "metadata": {},
      "outputs": [],
      "source": [
        "# Clean up\n",
        "! rm -rf db"
      ]
    },
    {
      "cell_type": "code",
      "execution_count": null,
      "metadata": {},
      "outputs": [],
      "source": []
    }
  ],
  "metadata": {
    "kernelspec": {
      "display_name": "chroma",
      "language": "python",
      "name": "python3"
    },
    "language_info": {
      "codemirror_mode": {
        "name": "ipython",
        "version": 3
      },
      "file_extension": ".py",
      "mimetype": "text/x-python",
      "name": "python",
      "nbconvert_exporter": "python",
      "pygments_lexer": "ipython3",
      "version": "3.11.4"
    },
    "orig_nbformat": 4,
    "vscode": {
      "interpreter": {
        "hash": "88f09714c9334832bac29166716f9f6a879ee2a4ed4822c1d4120cb2393b58dd"
      }
    }
  },
  "nbformat": 4,
  "nbformat_minor": 2
}
